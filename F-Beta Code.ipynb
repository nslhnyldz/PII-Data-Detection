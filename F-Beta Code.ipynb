{
  "nbformat": 4,
  "nbformat_minor": 0,
  "metadata": {
    "colab": {
      "provenance": []
    },
    "kernelspec": {
      "name": "python3",
      "display_name": "Python 3"
    },
    "language_info": {
      "name": "python"
    }
  },
  "cells": [
    {
      "cell_type": "code",
      "execution_count": null,
      "metadata": {
        "id": "fXoFLbr_a5ol"
      },
      "outputs": [],
      "source": []
    },
    {
      "cell_type": "code",
      "source": [
        "# Function to calculate precision\n",
        "def calculate_precision(true_positives, false_positives):\n",
        "    return true_positives / (true_positives + false_positives)\n",
        "\n",
        "# Function to calculate recall\n",
        "def calculate_recall(true_positives, false_negatives):\n",
        "    return true_positives / (true_positives + false_negatives)\n",
        "\n",
        "# Function to calculate F-beta score\n",
        "def calculate_f_beta(precision, recall, beta):\n",
        "    numerator = (1 + beta**2) * precision * recall\n",
        "    denominator = (beta**2 * precision) + recall\n",
        "    return numerator / denominator\n",
        "\n",
        "# Example 1\n",
        "true_positives_1 = 90\n",
        "false_positives_1 = 810\n",
        "false_negatives_1 = 10\n",
        "\n",
        "precision_1 = calculate_precision(true_positives_1, false_positives_1)\n",
        "recall_1 = calculate_recall(true_positives_1, false_negatives_1)\n",
        "\n",
        "# F-beta calculation with beta=5\n",
        "beta_1 = 5\n",
        "f_beta_1 = calculate_f_beta(precision_1, recall_1, beta_1)\n",
        "\n",
        "print(f\"Example 1 - F-{beta_1} Score: {f_beta_1:.3f}\")\n",
        "\n",
        "# Example 2\n",
        "true_positives_2 = 90\n",
        "false_positives_2 = 10\n",
        "false_negatives_2 = 810\n",
        "\n",
        "precision_2 = calculate_precision(true_positives_2, false_positives_2)\n",
        "recall_2 = calculate_recall(true_positives_2, false_negatives_2)\n",
        "\n",
        "# F-beta calculation with beta=5\n",
        "beta_2 = 5\n",
        "f_beta_2 = calculate_f_beta(precision_2, recall_2, beta_2)\n",
        "\n",
        "print(f\"Example 2 - F-{beta_2} Score: {f_beta_2:.3f}\")\n"
      ],
      "metadata": {
        "colab": {
          "base_uri": "https://localhost:8080/"
        },
        "id": "rD3yBD0Pa_Rx",
        "outputId": "a9b5efce-c27f-4712-e65e-fc8b11b0a1ce"
      },
      "execution_count": 1,
      "outputs": [
        {
          "output_type": "stream",
          "name": "stdout",
          "text": [
            "Example 1 - F-5 Score: 0.688\n",
            "Example 2 - F-5 Score: 0.104\n"
          ]
        }
      ]
    },
    {
      "cell_type": "code",
      "source": [],
      "metadata": {
        "id": "R2V-w9Twa_9D"
      },
      "execution_count": null,
      "outputs": []
    }
  ]
}
