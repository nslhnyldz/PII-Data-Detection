{
 "cells": [
  {
   "cell_type": "markdown",
   "id": "67a4b81c",
   "metadata": {
    "papermill": {
     "duration": 0.01225,
     "end_time": "2024-02-26T17:18:06.800309",
     "exception": false,
     "start_time": "2024-02-26T17:18:06.788059",
     "status": "completed"
    },
    "tags": []
   },
   "source": [
    "# General"
   ]
  },
  {
   "cell_type": "markdown",
   "id": "9b17ef58",
   "metadata": {
    "papermill": {
     "duration": 0.011392,
     "end_time": "2024-02-26T17:18:06.823659",
     "exception": false,
     "start_time": "2024-02-26T17:18:06.812267",
     "status": "completed"
    },
    "tags": []
   },
   "source": [
    "\n",
    "> Training with large-scale datasets can be time-consuming. Therefore, to optimize the model training process and enhance efficiency, we created a smaller mini datasets from the training data. This mini datasets will enable the model to be trained quickly while preserving the fundamental characteristics of the training data.\n",
    "> \n",
    "> In this context, care was taken to select documents with the most labels from the original training dataset. This mini dataset represents the main features of the training data but in a more manageable size. The datasets were created at 10%, 50%, 70% and 40% respectively.\n",
    "> \n",
    "> Subsequently, a validation dataset consisting of documents not found in the mini dataset was created as much as possible. This validation dataset is used to evaluate the model's generalization ability. Thus, it becomes possible to accurately assess the model's performance on real-world data and detect potential overfitting issues. This process aids in optimizing the model training process and gaining a better understanding of how the model performs in real-world scenarios."
   ]
  },
  {
   "cell_type": "code",
   "execution_count": 1,
   "id": "0eb91812",
   "metadata": {
    "_cell_guid": "b1076dfc-b9ad-4769-8c92-a6c4dae69d19",
    "_uuid": "8f2839f25d086af736a60e9eeb907d3b93b6e0e5",
    "execution": {
     "iopub.execute_input": "2024-02-26T17:18:06.848277Z",
     "iopub.status.busy": "2024-02-26T17:18:06.847889Z",
     "iopub.status.idle": "2024-02-26T17:18:07.679418Z",
     "shell.execute_reply": "2024-02-26T17:18:07.677985Z"
    },
    "papermill": {
     "duration": 0.846583,
     "end_time": "2024-02-26T17:18:07.681696",
     "exception": false,
     "start_time": "2024-02-26T17:18:06.835113",
     "status": "completed"
    },
    "tags": []
   },
   "outputs": [
    {
     "name": "stdout",
     "output_type": "stream",
     "text": [
      "/kaggle/input/pii-detection-removal-from-educational-data/sample_submission.csv\n",
      "/kaggle/input/pii-detection-removal-from-educational-data/train.json\n",
      "/kaggle/input/pii-detection-removal-from-educational-data/test.json\n"
     ]
    }
   ],
   "source": [
    "# This Python 3 environment comes with many helpful analytics libraries installed\n",
    "# It is defined by the kaggle/python Docker image: https://github.com/kaggle/docker-python\n",
    "# For example, here's several helpful packages to load\n",
    "\n",
    "import numpy as np # linear algebra\n",
    "import pandas as pd # data processing, CSV file I/O (e.g. pd.read_csv)\n",
    "\n",
    "# Input data files are available in the read-only \"../input/\" directory\n",
    "# For example, running this (by clicking run or pressing Shift+Enter) will list all files under the input directory\n",
    "\n",
    "import os\n",
    "for dirname, _, filenames in os.walk('/kaggle/input'):\n",
    "    for filename in filenames:\n",
    "        print(os.path.join(dirname, filename))\n",
    "\n",
    "# You can write up to 20GB to the current directory (/kaggle/working/) that gets preserved as output when you create a version using \"Save & Run All\" \n",
    "# You can also write temporary files to /kaggle/temp/, but they won't be saved outside of the current session"
   ]
  },
  {
   "cell_type": "code",
   "execution_count": 2,
   "id": "07309abd",
   "metadata": {
    "execution": {
     "iopub.execute_input": "2024-02-26T17:18:07.708082Z",
     "iopub.status.busy": "2024-02-26T17:18:07.707029Z",
     "iopub.status.idle": "2024-02-26T17:18:07.712290Z",
     "shell.execute_reply": "2024-02-26T17:18:07.711284Z"
    },
    "papermill": {
     "duration": 0.020991,
     "end_time": "2024-02-26T17:18:07.714483",
     "exception": false,
     "start_time": "2024-02-26T17:18:07.693492",
     "status": "completed"
    },
    "tags": []
   },
   "outputs": [],
   "source": [
    "import json\n",
    "import itertools\n",
    "import pandas as pd\n",
    "import matplotlib.pyplot as plt\n",
    "import os\n",
    "import numpy as np\n",
    "import warnings"
   ]
  },
  {
   "cell_type": "markdown",
   "id": "d09afe8c",
   "metadata": {
    "papermill": {
     "duration": 0.012157,
     "end_time": "2024-02-26T17:18:07.738595",
     "exception": false,
     "start_time": "2024-02-26T17:18:07.726438",
     "status": "completed"
    },
    "tags": []
   },
   "source": [
    "# Examining Original Data Set"
   ]
  },
  {
   "cell_type": "code",
   "execution_count": 3,
   "id": "e50d1f05",
   "metadata": {
    "execution": {
     "iopub.execute_input": "2024-02-26T17:18:07.763771Z",
     "iopub.status.busy": "2024-02-26T17:18:07.763398Z",
     "iopub.status.idle": "2024-02-26T17:18:10.189426Z",
     "shell.execute_reply": "2024-02-26T17:18:10.188433Z"
    },
    "papermill": {
     "duration": 2.441811,
     "end_time": "2024-02-26T17:18:10.191916",
     "exception": false,
     "start_time": "2024-02-26T17:18:07.750105",
     "status": "completed"
    },
    "tags": []
   },
   "outputs": [],
   "source": [
    "data = pd.read_csv('/kaggle/input/pii-detection-removal-from-educational-data/sample_submission.csv')\n",
    "train = json.load(open('/kaggle/input/pii-detection-removal-from-educational-data/train.json'))\n",
    "test = json.load(open('/kaggle/input/pii-detection-removal-from-educational-data/test.json'))"
   ]
  },
  {
   "cell_type": "code",
   "execution_count": 4,
   "id": "19469f98",
   "metadata": {
    "execution": {
     "iopub.execute_input": "2024-02-26T17:18:10.216715Z",
     "iopub.status.busy": "2024-02-26T17:18:10.216292Z",
     "iopub.status.idle": "2024-02-26T17:18:10.259393Z",
     "shell.execute_reply": "2024-02-26T17:18:10.258475Z"
    },
    "papermill": {
     "duration": 0.058789,
     "end_time": "2024-02-26T17:18:10.262217",
     "exception": false,
     "start_time": "2024-02-26T17:18:10.203428",
     "status": "completed"
    },
    "tags": []
   },
   "outputs": [
    {
     "data": {
      "text/html": [
       "<div>\n",
       "<style scoped>\n",
       "    .dataframe tbody tr th:only-of-type {\n",
       "        vertical-align: middle;\n",
       "    }\n",
       "\n",
       "    .dataframe tbody tr th {\n",
       "        vertical-align: top;\n",
       "    }\n",
       "\n",
       "    .dataframe thead th {\n",
       "        text-align: right;\n",
       "    }\n",
       "</style>\n",
       "<table border=\"1\" class=\"dataframe\">\n",
       "  <thead>\n",
       "    <tr style=\"text-align: right;\">\n",
       "      <th></th>\n",
       "      <th>document</th>\n",
       "      <th>full_text</th>\n",
       "      <th>tokens</th>\n",
       "      <th>trailing_whitespace</th>\n",
       "      <th>labels</th>\n",
       "    </tr>\n",
       "  </thead>\n",
       "  <tbody>\n",
       "    <tr>\n",
       "      <th>0</th>\n",
       "      <td>7</td>\n",
       "      <td>Design Thinking for innovation reflexion-Avril...</td>\n",
       "      <td>[Design, Thinking, for, innovation, reflexion,...</td>\n",
       "      <td>[True, True, True, True, False, False, True, F...</td>\n",
       "      <td>[O, O, O, O, O, O, O, O, O, B-NAME_STUDENT, I-...</td>\n",
       "    </tr>\n",
       "    <tr>\n",
       "      <th>1</th>\n",
       "      <td>10</td>\n",
       "      <td>Diego Estrada\\n\\nDesign Thinking Assignment\\n\\...</td>\n",
       "      <td>[Diego, Estrada, \\n\\n, Design, Thinking, Assig...</td>\n",
       "      <td>[True, False, False, True, True, False, False,...</td>\n",
       "      <td>[B-NAME_STUDENT, I-NAME_STUDENT, O, O, O, O, O...</td>\n",
       "    </tr>\n",
       "    <tr>\n",
       "      <th>2</th>\n",
       "      <td>16</td>\n",
       "      <td>Reporting process\\n\\nby Gilberto Gamboa\\n\\nCha...</td>\n",
       "      <td>[Reporting, process, \\n\\n, by, Gilberto, Gambo...</td>\n",
       "      <td>[True, False, False, True, True, False, False,...</td>\n",
       "      <td>[O, O, O, O, B-NAME_STUDENT, I-NAME_STUDENT, O...</td>\n",
       "    </tr>\n",
       "    <tr>\n",
       "      <th>3</th>\n",
       "      <td>20</td>\n",
       "      <td>Design Thinking for Innovation\\n\\nSindy Samaca...</td>\n",
       "      <td>[Design, Thinking, for, Innovation, \\n\\n, Sind...</td>\n",
       "      <td>[True, True, True, False, False, True, False, ...</td>\n",
       "      <td>[O, O, O, O, O, B-NAME_STUDENT, I-NAME_STUDENT...</td>\n",
       "    </tr>\n",
       "    <tr>\n",
       "      <th>4</th>\n",
       "      <td>56</td>\n",
       "      <td>Assignment:  Visualization Reflection  Submitt...</td>\n",
       "      <td>[Assignment, :,   , Visualization,  , Reflecti...</td>\n",
       "      <td>[False, False, False, False, False, False, Fal...</td>\n",
       "      <td>[O, O, O, O, O, O, O, O, O, O, O, O, B-NAME_ST...</td>\n",
       "    </tr>\n",
       "  </tbody>\n",
       "</table>\n",
       "</div>"
      ],
      "text/plain": [
       "   document                                          full_text  \\\n",
       "0         7  Design Thinking for innovation reflexion-Avril...   \n",
       "1        10  Diego Estrada\\n\\nDesign Thinking Assignment\\n\\...   \n",
       "2        16  Reporting process\\n\\nby Gilberto Gamboa\\n\\nCha...   \n",
       "3        20  Design Thinking for Innovation\\n\\nSindy Samaca...   \n",
       "4        56  Assignment:  Visualization Reflection  Submitt...   \n",
       "\n",
       "                                              tokens  \\\n",
       "0  [Design, Thinking, for, innovation, reflexion,...   \n",
       "1  [Diego, Estrada, \\n\\n, Design, Thinking, Assig...   \n",
       "2  [Reporting, process, \\n\\n, by, Gilberto, Gambo...   \n",
       "3  [Design, Thinking, for, Innovation, \\n\\n, Sind...   \n",
       "4  [Assignment, :,   , Visualization,  , Reflecti...   \n",
       "\n",
       "                                 trailing_whitespace  \\\n",
       "0  [True, True, True, True, False, False, True, F...   \n",
       "1  [True, False, False, True, True, False, False,...   \n",
       "2  [True, False, False, True, True, False, False,...   \n",
       "3  [True, True, True, False, False, True, False, ...   \n",
       "4  [False, False, False, False, False, False, Fal...   \n",
       "\n",
       "                                              labels  \n",
       "0  [O, O, O, O, O, O, O, O, O, B-NAME_STUDENT, I-...  \n",
       "1  [B-NAME_STUDENT, I-NAME_STUDENT, O, O, O, O, O...  \n",
       "2  [O, O, O, O, B-NAME_STUDENT, I-NAME_STUDENT, O...  \n",
       "3  [O, O, O, O, O, B-NAME_STUDENT, I-NAME_STUDENT...  \n",
       "4  [O, O, O, O, O, O, O, O, O, O, O, O, B-NAME_ST...  "
      ]
     },
     "execution_count": 4,
     "metadata": {},
     "output_type": "execute_result"
    }
   ],
   "source": [
    "org_train = pd.DataFrame(train)\n",
    "org_train.head()"
   ]
  },
  {
   "cell_type": "code",
   "execution_count": 5,
   "id": "d3141caf",
   "metadata": {
    "execution": {
     "iopub.execute_input": "2024-02-26T17:18:10.287217Z",
     "iopub.status.busy": "2024-02-26T17:18:10.286814Z",
     "iopub.status.idle": "2024-02-26T17:18:10.316882Z",
     "shell.execute_reply": "2024-02-26T17:18:10.315587Z"
    },
    "papermill": {
     "duration": 0.045392,
     "end_time": "2024-02-26T17:18:10.319229",
     "exception": false,
     "start_time": "2024-02-26T17:18:10.273837",
     "status": "completed"
    },
    "tags": []
   },
   "outputs": [
    {
     "name": "stdout",
     "output_type": "stream",
     "text": [
      "<class 'pandas.core.frame.DataFrame'>\n",
      "RangeIndex: 6807 entries, 0 to 6806\n",
      "Data columns (total 5 columns):\n",
      " #   Column               Non-Null Count  Dtype \n",
      "---  ------               --------------  ----- \n",
      " 0   document             6807 non-null   int64 \n",
      " 1   full_text            6807 non-null   object\n",
      " 2   tokens               6807 non-null   object\n",
      " 3   trailing_whitespace  6807 non-null   object\n",
      " 4   labels               6807 non-null   object\n",
      "dtypes: int64(1), object(4)\n",
      "memory usage: 266.0+ KB\n"
     ]
    }
   ],
   "source": [
    "org_train.info()"
   ]
  },
  {
   "cell_type": "code",
   "execution_count": 6,
   "id": "c0a21f70",
   "metadata": {
    "execution": {
     "iopub.execute_input": "2024-02-26T17:18:10.345333Z",
     "iopub.status.busy": "2024-02-26T17:18:10.344370Z",
     "iopub.status.idle": "2024-02-26T17:18:10.776765Z",
     "shell.execute_reply": "2024-02-26T17:18:10.775618Z"
    },
    "papermill": {
     "duration": 0.447923,
     "end_time": "2024-02-26T17:18:10.779086",
     "exception": false,
     "start_time": "2024-02-26T17:18:10.331163",
     "status": "completed"
    },
    "tags": []
   },
   "outputs": [
    {
     "name": "stdout",
     "output_type": "stream",
     "text": [
      "Orijinal train veri setindeki farklı etiketlerin sayısı: 13\n",
      "Orijinal train veri setindeki farklı etiketler:\n",
      "['O' 'B-NAME_STUDENT' 'I-NAME_STUDENT' 'B-URL_PERSONAL' 'B-EMAIL'\n",
      " 'B-ID_NUM' 'I-URL_PERSONAL' 'B-USERNAME' 'B-PHONE_NUM' 'I-PHONE_NUM'\n",
      " 'B-STREET_ADDRESS' 'I-STREET_ADDRESS' 'I-ID_NUM']\n"
     ]
    }
   ],
   "source": [
    "# Orijinal train veri setindeki farklı etiketlerin listesi\n",
    "unique_labels_train = org_train['labels'].explode().unique()\n",
    "\n",
    "# Orijinal train veri setindeki farklı etiketlerin sayısı\n",
    "num_unique_labels_train = len(unique_labels_train)\n",
    "\n",
    "print(\"Orijinal train veri setindeki farklı etiketlerin sayısı:\", num_unique_labels_train)\n",
    "print(\"Orijinal train veri setindeki farklı etiketler:\")\n",
    "print(unique_labels_train)\n"
   ]
  },
  {
   "cell_type": "code",
   "execution_count": 7,
   "id": "d317be80",
   "metadata": {
    "execution": {
     "iopub.execute_input": "2024-02-26T17:18:10.804337Z",
     "iopub.status.busy": "2024-02-26T17:18:10.803988Z",
     "iopub.status.idle": "2024-02-26T17:18:11.577091Z",
     "shell.execute_reply": "2024-02-26T17:18:11.575986Z"
    },
    "papermill": {
     "duration": 0.788569,
     "end_time": "2024-02-26T17:18:11.579449",
     "exception": false,
     "start_time": "2024-02-26T17:18:10.790880",
     "status": "completed"
    },
    "tags": []
   },
   "outputs": [
    {
     "name": "stdout",
     "output_type": "stream",
     "text": [
      "Number of documents with O : 6807\n",
      "Number of documents with B-NAME_STUDENT : 891\n",
      "Number of documents with I-NAME_STUDENT : 814\n",
      "Number of documents with B-URL_PERSONAL : 72\n",
      "Number of documents with B-ID_NUM : 33\n",
      "Number of documents with B-EMAIL : 24\n",
      "Number of documents with I-STREET_ADDRESS : 2\n",
      "Number of documents with I-PHONE_NUM : 3\n",
      "Number of documents with B-USERNAME : 5\n",
      "Number of documents with B-PHONE_NUM : 4\n",
      "Number of documents with B-STREET_ADDRESS : 2\n",
      "Number of documents with I-URL_PERSONAL : 1\n",
      "Number of documents with I-ID_NUM : 1\n"
     ]
    }
   ],
   "source": [
    "# Her bir etiketi içeren satırları filtreleyelim\n",
    "labels_to_search = ['O', 'B-NAME_STUDENT', 'I-NAME_STUDENT', 'B-URL_PERSONAL', 'B-ID_NUM', 'B-EMAIL', \n",
    "                    'I-STREET_ADDRESS', 'I-PHONE_NUM', 'B-USERNAME', 'B-PHONE_NUM', 'B-STREET_ADDRESS', \n",
    "                    'I-URL_PERSONAL', 'I-ID_NUM']\n",
    "\n",
    "num_documents_with_labels = {}\n",
    "\n",
    "for label in labels_to_search:\n",
    "    label_rows = org_train[org_train['labels'].str.contains(label, regex=False)]\n",
    "    num_documents_with_labels[label] = label_rows['document'].nunique()\n",
    "\n",
    "for label, num_documents in num_documents_with_labels.items():\n",
    "    print(\"Number of documents with\", label, \":\", num_documents)\n"
   ]
  },
  {
   "cell_type": "markdown",
   "id": "dba377b3",
   "metadata": {
    "papermill": {
     "duration": 0.011759,
     "end_time": "2024-02-26T17:18:11.603527",
     "exception": false,
     "start_time": "2024-02-26T17:18:11.591768",
     "status": "completed"
    },
    "tags": []
   },
   "source": [
    "# Creating Mini Data Set (approx.10%)"
   ]
  },
  {
   "cell_type": "code",
   "execution_count": 8,
   "id": "12119ff7",
   "metadata": {
    "execution": {
     "iopub.execute_input": "2024-02-26T17:18:11.629746Z",
     "iopub.status.busy": "2024-02-26T17:18:11.629353Z",
     "iopub.status.idle": "2024-02-26T17:18:15.851603Z",
     "shell.execute_reply": "2024-02-26T17:18:15.850329Z"
    },
    "papermill": {
     "duration": 4.239014,
     "end_time": "2024-02-26T17:18:15.854750",
     "exception": false,
     "start_time": "2024-02-26T17:18:11.615736",
     "status": "completed"
    },
    "tags": []
   },
   "outputs": [
    {
     "name": "stdout",
     "output_type": "stream",
     "text": [
      "Oluşturulan Mini Veri Setinin Boyutu: (505, 6)\n"
     ]
    },
    {
     "data": {
      "text/html": [
       "<div>\n",
       "<style scoped>\n",
       "    .dataframe tbody tr th:only-of-type {\n",
       "        vertical-align: middle;\n",
       "    }\n",
       "\n",
       "    .dataframe tbody tr th {\n",
       "        vertical-align: top;\n",
       "    }\n",
       "\n",
       "    .dataframe thead th {\n",
       "        text-align: right;\n",
       "    }\n",
       "</style>\n",
       "<table border=\"1\" class=\"dataframe\">\n",
       "  <thead>\n",
       "    <tr style=\"text-align: right;\">\n",
       "      <th></th>\n",
       "      <th>document</th>\n",
       "      <th>full_text</th>\n",
       "      <th>tokens</th>\n",
       "      <th>trailing_whitespace</th>\n",
       "      <th>labels</th>\n",
       "      <th>label_count</th>\n",
       "    </tr>\n",
       "  </thead>\n",
       "  <tbody>\n",
       "    <tr>\n",
       "      <th>2589</th>\n",
       "      <td>12888</td>\n",
       "      <td>Re-Engaging  Students:  A  Learning  Launch  E...</td>\n",
       "      <td>[Re, -, Engaging,  , Students, :,  , A,  , Lea...</td>\n",
       "      <td>[False, False, True, False, False, True, False...</td>\n",
       "      <td>[O, O, O, O, O, O, O, O, O, O, O, O, O, O, O, ...</td>\n",
       "      <td>3298</td>\n",
       "    </tr>\n",
       "    <tr>\n",
       "      <th>3175</th>\n",
       "      <td>14267</td>\n",
       "      <td>MIAMISBURG, Ohio, Dec. 10, 2019 /PRNewswire/ -...</td>\n",
       "      <td>[MIAMISBURG, ,, Ohio, ,, Dec., 10, ,, 2019, /P...</td>\n",
       "      <td>[False, True, False, True, True, False, True, ...</td>\n",
       "      <td>[O, O, O, O, O, O, O, O, O, O, O, O, O, O, O, ...</td>\n",
       "      <td>3133</td>\n",
       "    </tr>\n",
       "    <tr>\n",
       "      <th>6365</th>\n",
       "      <td>21720</td>\n",
       "      <td>In this assignment, a reflective report will b...</td>\n",
       "      <td>[In, this, assignment, ,, a, reflective, repor...</td>\n",
       "      <td>[True, True, False, True, True, True, True, Tr...</td>\n",
       "      <td>[O, O, O, O, O, O, O, O, O, O, O, O, O, O, O, ...</td>\n",
       "      <td>3007</td>\n",
       "    </tr>\n",
       "    <tr>\n",
       "      <th>1207</th>\n",
       "      <td>10078</td>\n",
       "      <td>Overcoming Barriers - The Story of the Movie a...</td>\n",
       "      <td>[Overcoming, Barriers, -, The, Story, of, the,...</td>\n",
       "      <td>[True, True, True, True, True, True, True, Tru...</td>\n",
       "      <td>[O, O, O, O, O, O, O, O, O, O, O, O, O, O, O, ...</td>\n",
       "      <td>2956</td>\n",
       "    </tr>\n",
       "    <tr>\n",
       "      <th>781</th>\n",
       "      <td>9188</td>\n",
       "      <td>Design Thinking in Career Development and Coun...</td>\n",
       "      <td>[Design, Thinking, in, Career, Development, an...</td>\n",
       "      <td>[True, True, True, True, True, True, True, Fal...</td>\n",
       "      <td>[O, O, O, O, O, O, O, O, B-NAME_STUDENT, I-NAM...</td>\n",
       "      <td>2781</td>\n",
       "    </tr>\n",
       "  </tbody>\n",
       "</table>\n",
       "</div>"
      ],
      "text/plain": [
       "      document                                          full_text  \\\n",
       "2589     12888  Re-Engaging  Students:  A  Learning  Launch  E...   \n",
       "3175     14267  MIAMISBURG, Ohio, Dec. 10, 2019 /PRNewswire/ -...   \n",
       "6365     21720  In this assignment, a reflective report will b...   \n",
       "1207     10078  Overcoming Barriers - The Story of the Movie a...   \n",
       "781       9188  Design Thinking in Career Development and Coun...   \n",
       "\n",
       "                                                 tokens  \\\n",
       "2589  [Re, -, Engaging,  , Students, :,  , A,  , Lea...   \n",
       "3175  [MIAMISBURG, ,, Ohio, ,, Dec., 10, ,, 2019, /P...   \n",
       "6365  [In, this, assignment, ,, a, reflective, repor...   \n",
       "1207  [Overcoming, Barriers, -, The, Story, of, the,...   \n",
       "781   [Design, Thinking, in, Career, Development, an...   \n",
       "\n",
       "                                    trailing_whitespace  \\\n",
       "2589  [False, False, True, False, False, True, False...   \n",
       "3175  [False, True, False, True, True, False, True, ...   \n",
       "6365  [True, True, False, True, True, True, True, Tr...   \n",
       "1207  [True, True, True, True, True, True, True, Tru...   \n",
       "781   [True, True, True, True, True, True, True, Fal...   \n",
       "\n",
       "                                                 labels  label_count  \n",
       "2589  [O, O, O, O, O, O, O, O, O, O, O, O, O, O, O, ...         3298  \n",
       "3175  [O, O, O, O, O, O, O, O, O, O, O, O, O, O, O, ...         3133  \n",
       "6365  [O, O, O, O, O, O, O, O, O, O, O, O, O, O, O, ...         3007  \n",
       "1207  [O, O, O, O, O, O, O, O, O, O, O, O, O, O, O, ...         2956  \n",
       "781   [O, O, O, O, O, O, O, O, B-NAME_STUDENT, I-NAM...         2781  "
      ]
     },
     "execution_count": 8,
     "metadata": {},
     "output_type": "execute_result"
    }
   ],
   "source": [
    "import pandas as pd\n",
    "\n",
    "# org_train veri setini yükleyin (dosya yolu doğru belirtilmelidir)\n",
    "org_train = json.load(open('/kaggle/input/pii-detection-removal-from-educational-data/train.json'))\n",
    "\n",
    "# org_train veri setini DataFrame'e dönüştürün\n",
    "org_train_df = pd.DataFrame(org_train)\n",
    "\n",
    "# Her bir belgenin etiket sayısını hesaplayın\n",
    "org_train_df['label_count'] = org_train_df['labels'].apply(lambda x: len(x))\n",
    "\n",
    "# Etiket sayısına göre belgeleri sıralayın ve en çok etiket içeren 500 belgeyi seçin\n",
    "mini_dataset = org_train_df.nlargest(500, 'label_count')\n",
    "\n",
    "# Eksik etiketleri bulun\n",
    "eksik_etiketler = set(['O', 'B-NAME_STUDENT', 'I-NAME_STUDENT', 'B-URL_PERSONAL', 'B-ID_NUM', 'B-EMAIL', 'I-STREET_ADDRESS', 'I-PHONE_NUM', 'B-USERNAME', 'B-PHONE_NUM', 'B-STREET_ADDRESS', 'I-URL_PERSONAL', 'I-ID_NUM']) - set(mini_dataset['labels'].explode().unique())\n",
    "\n",
    "# Eksik etiketlerden birer tane örnek alarak eksik belgeleri doldurun\n",
    "for etiket in eksik_etiketler:\n",
    "    if etiket in org_train_df['labels'].explode().unique():\n",
    "        belge = org_train_df[org_train_df['labels'].apply(lambda x: etiket in x)].sample(n=1)\n",
    "        mini_dataset = pd.concat([mini_dataset, belge])\n",
    "\n",
    "# Sonuçları gösterin\n",
    "print(\"Oluşturulan Mini Veri Setinin Boyutu:\", mini_dataset.shape)\n",
    "mini_dataset.head()\n"
   ]
  },
  {
   "cell_type": "code",
   "execution_count": 9,
   "id": "afc7ad50",
   "metadata": {
    "execution": {
     "iopub.execute_input": "2024-02-26T17:18:15.881823Z",
     "iopub.status.busy": "2024-02-26T17:18:15.881459Z",
     "iopub.status.idle": "2024-02-26T17:18:15.906400Z",
     "shell.execute_reply": "2024-02-26T17:18:15.905601Z"
    },
    "papermill": {
     "duration": 0.040533,
     "end_time": "2024-02-26T17:18:15.908348",
     "exception": false,
     "start_time": "2024-02-26T17:18:15.867815",
     "status": "completed"
    },
    "tags": []
   },
   "outputs": [
    {
     "data": {
      "text/html": [
       "<div>\n",
       "<style scoped>\n",
       "    .dataframe tbody tr th:only-of-type {\n",
       "        vertical-align: middle;\n",
       "    }\n",
       "\n",
       "    .dataframe tbody tr th {\n",
       "        vertical-align: top;\n",
       "    }\n",
       "\n",
       "    .dataframe thead th {\n",
       "        text-align: right;\n",
       "    }\n",
       "</style>\n",
       "<table border=\"1\" class=\"dataframe\">\n",
       "  <thead>\n",
       "    <tr style=\"text-align: right;\">\n",
       "      <th></th>\n",
       "      <th>document</th>\n",
       "      <th>full_text</th>\n",
       "      <th>tokens</th>\n",
       "      <th>trailing_whitespace</th>\n",
       "      <th>labels</th>\n",
       "      <th>label_count</th>\n",
       "    </tr>\n",
       "  </thead>\n",
       "  <tbody>\n",
       "    <tr>\n",
       "      <th>2589</th>\n",
       "      <td>12888</td>\n",
       "      <td>Re-Engaging  Students:  A  Learning  Launch  E...</td>\n",
       "      <td>[Re, -, Engaging,  , Students, :,  , A,  , Lea...</td>\n",
       "      <td>[False, False, True, False, False, True, False...</td>\n",
       "      <td>[O, O, O, O, O, O, O, O, O, O, O, O, O, O, O, ...</td>\n",
       "      <td>3298</td>\n",
       "    </tr>\n",
       "    <tr>\n",
       "      <th>3175</th>\n",
       "      <td>14267</td>\n",
       "      <td>MIAMISBURG, Ohio, Dec. 10, 2019 /PRNewswire/ -...</td>\n",
       "      <td>[MIAMISBURG, ,, Ohio, ,, Dec., 10, ,, 2019, /P...</td>\n",
       "      <td>[False, True, False, True, True, False, True, ...</td>\n",
       "      <td>[O, O, O, O, O, O, O, O, O, O, O, O, O, O, O, ...</td>\n",
       "      <td>3133</td>\n",
       "    </tr>\n",
       "    <tr>\n",
       "      <th>6365</th>\n",
       "      <td>21720</td>\n",
       "      <td>In this assignment, a reflective report will b...</td>\n",
       "      <td>[In, this, assignment, ,, a, reflective, repor...</td>\n",
       "      <td>[True, True, False, True, True, True, True, Tr...</td>\n",
       "      <td>[O, O, O, O, O, O, O, O, O, O, O, O, O, O, O, ...</td>\n",
       "      <td>3007</td>\n",
       "    </tr>\n",
       "    <tr>\n",
       "      <th>1207</th>\n",
       "      <td>10078</td>\n",
       "      <td>Overcoming Barriers - The Story of the Movie a...</td>\n",
       "      <td>[Overcoming, Barriers, -, The, Story, of, the,...</td>\n",
       "      <td>[True, True, True, True, True, True, True, Tru...</td>\n",
       "      <td>[O, O, O, O, O, O, O, O, O, O, O, O, O, O, O, ...</td>\n",
       "      <td>2956</td>\n",
       "    </tr>\n",
       "    <tr>\n",
       "      <th>781</th>\n",
       "      <td>9188</td>\n",
       "      <td>Design Thinking in Career Development and Coun...</td>\n",
       "      <td>[Design, Thinking, in, Career, Development, an...</td>\n",
       "      <td>[True, True, True, True, True, True, True, Fal...</td>\n",
       "      <td>[O, O, O, O, O, O, O, O, B-NAME_STUDENT, I-NAM...</td>\n",
       "      <td>2781</td>\n",
       "    </tr>\n",
       "  </tbody>\n",
       "</table>\n",
       "</div>"
      ],
      "text/plain": [
       "      document                                          full_text  \\\n",
       "2589     12888  Re-Engaging  Students:  A  Learning  Launch  E...   \n",
       "3175     14267  MIAMISBURG, Ohio, Dec. 10, 2019 /PRNewswire/ -...   \n",
       "6365     21720  In this assignment, a reflective report will b...   \n",
       "1207     10078  Overcoming Barriers - The Story of the Movie a...   \n",
       "781       9188  Design Thinking in Career Development and Coun...   \n",
       "\n",
       "                                                 tokens  \\\n",
       "2589  [Re, -, Engaging,  , Students, :,  , A,  , Lea...   \n",
       "3175  [MIAMISBURG, ,, Ohio, ,, Dec., 10, ,, 2019, /P...   \n",
       "6365  [In, this, assignment, ,, a, reflective, repor...   \n",
       "1207  [Overcoming, Barriers, -, The, Story, of, the,...   \n",
       "781   [Design, Thinking, in, Career, Development, an...   \n",
       "\n",
       "                                    trailing_whitespace  \\\n",
       "2589  [False, False, True, False, False, True, False...   \n",
       "3175  [False, True, False, True, True, False, True, ...   \n",
       "6365  [True, True, False, True, True, True, True, Tr...   \n",
       "1207  [True, True, True, True, True, True, True, Tru...   \n",
       "781   [True, True, True, True, True, True, True, Fal...   \n",
       "\n",
       "                                                 labels  label_count  \n",
       "2589  [O, O, O, O, O, O, O, O, O, O, O, O, O, O, O, ...         3298  \n",
       "3175  [O, O, O, O, O, O, O, O, O, O, O, O, O, O, O, ...         3133  \n",
       "6365  [O, O, O, O, O, O, O, O, O, O, O, O, O, O, O, ...         3007  \n",
       "1207  [O, O, O, O, O, O, O, O, O, O, O, O, O, O, O, ...         2956  \n",
       "781   [O, O, O, O, O, O, O, O, B-NAME_STUDENT, I-NAM...         2781  "
      ]
     },
     "execution_count": 9,
     "metadata": {},
     "output_type": "execute_result"
    }
   ],
   "source": [
    "mini_dataset.head()\n"
   ]
  },
  {
   "cell_type": "code",
   "execution_count": 10,
   "id": "46dad755",
   "metadata": {
    "execution": {
     "iopub.execute_input": "2024-02-26T17:18:15.935479Z",
     "iopub.status.busy": "2024-02-26T17:18:15.934843Z",
     "iopub.status.idle": "2024-02-26T17:18:15.957515Z",
     "shell.execute_reply": "2024-02-26T17:18:15.956712Z"
    },
    "papermill": {
     "duration": 0.038668,
     "end_time": "2024-02-26T17:18:15.959559",
     "exception": false,
     "start_time": "2024-02-26T17:18:15.920891",
     "status": "completed"
    },
    "tags": []
   },
   "outputs": [
    {
     "data": {
      "text/html": [
       "<div>\n",
       "<style scoped>\n",
       "    .dataframe tbody tr th:only-of-type {\n",
       "        vertical-align: middle;\n",
       "    }\n",
       "\n",
       "    .dataframe tbody tr th {\n",
       "        vertical-align: top;\n",
       "    }\n",
       "\n",
       "    .dataframe thead th {\n",
       "        text-align: right;\n",
       "    }\n",
       "</style>\n",
       "<table border=\"1\" class=\"dataframe\">\n",
       "  <thead>\n",
       "    <tr style=\"text-align: right;\">\n",
       "      <th></th>\n",
       "      <th>document</th>\n",
       "      <th>full_text</th>\n",
       "      <th>tokens</th>\n",
       "      <th>trailing_whitespace</th>\n",
       "      <th>labels</th>\n",
       "      <th>label_count</th>\n",
       "    </tr>\n",
       "  </thead>\n",
       "  <tbody>\n",
       "    <tr>\n",
       "      <th>5239</th>\n",
       "      <td>19280</td>\n",
       "      <td>Learning Launch based on Design Thinking for I...</td>\n",
       "      <td>[Learning, Launch, based, on, Design, Thinking...</td>\n",
       "      <td>[True, True, True, True, True, True, True, Fal...</td>\n",
       "      <td>[O, O, O, O, O, O, O, O, O, O, O, O, O, O, O, ...</td>\n",
       "      <td>860</td>\n",
       "    </tr>\n",
       "    <tr>\n",
       "      <th>103</th>\n",
       "      <td>3202</td>\n",
       "      <td>Final Assignment\\n\\nUniversity of Virginia's D...</td>\n",
       "      <td>[Final, Assignment, \\n\\n, University, of, Virg...</td>\n",
       "      <td>[True, False, False, True, True, False, True, ...</td>\n",
       "      <td>[O, O, O, O, O, O, O, O, O, O, O, O, O, O, O, ...</td>\n",
       "      <td>293</td>\n",
       "    </tr>\n",
       "    <tr>\n",
       "      <th>114</th>\n",
       "      <td>3351</td>\n",
       "      <td>Example Reflection – Storytelling\\n\\nChallenge...</td>\n",
       "      <td>[Example, Reflection, –, Storytelling, \\n\\n, C...</td>\n",
       "      <td>[True, True, True, False, False, True, True, T...</td>\n",
       "      <td>[O, O, O, O, O, O, O, O, O, O, O, O, O, O, O, ...</td>\n",
       "      <td>692</td>\n",
       "    </tr>\n",
       "    <tr>\n",
       "      <th>1103</th>\n",
       "      <td>9854</td>\n",
       "      <td>Waseem Mabunda  591 Smith Centers Apt. 656\\nJo...</td>\n",
       "      <td>[Waseem, Mabunda,  , 591, Smith, Centers, Apt,...</td>\n",
       "      <td>[True, True, False, True, True, True, False, T...</td>\n",
       "      <td>[B-NAME_STUDENT, I-NAME_STUDENT, O, B-STREET_A...</td>\n",
       "      <td>707</td>\n",
       "    </tr>\n",
       "    <tr>\n",
       "      <th>1887</th>\n",
       "      <td>11442</td>\n",
       "      <td>Reflection – Learning Launch of 1861. Milano\\n...</td>\n",
       "      <td>[Reflection, –, Learning, Launch, of, 1861, .,...</td>\n",
       "      <td>[True, True, True, True, True, False, True, Fa...</td>\n",
       "      <td>[O, O, O, O, O, O, O, O, O, O, O, O, O, O, O, ...</td>\n",
       "      <td>1210</td>\n",
       "    </tr>\n",
       "  </tbody>\n",
       "</table>\n",
       "</div>"
      ],
      "text/plain": [
       "      document                                          full_text  \\\n",
       "5239     19280  Learning Launch based on Design Thinking for I...   \n",
       "103       3202  Final Assignment\\n\\nUniversity of Virginia's D...   \n",
       "114       3351  Example Reflection – Storytelling\\n\\nChallenge...   \n",
       "1103      9854  Waseem Mabunda  591 Smith Centers Apt. 656\\nJo...   \n",
       "1887     11442  Reflection – Learning Launch of 1861. Milano\\n...   \n",
       "\n",
       "                                                 tokens  \\\n",
       "5239  [Learning, Launch, based, on, Design, Thinking...   \n",
       "103   [Final, Assignment, \\n\\n, University, of, Virg...   \n",
       "114   [Example, Reflection, –, Storytelling, \\n\\n, C...   \n",
       "1103  [Waseem, Mabunda,  , 591, Smith, Centers, Apt,...   \n",
       "1887  [Reflection, –, Learning, Launch, of, 1861, .,...   \n",
       "\n",
       "                                    trailing_whitespace  \\\n",
       "5239  [True, True, True, True, True, True, True, Fal...   \n",
       "103   [True, False, False, True, True, False, True, ...   \n",
       "114   [True, True, True, False, False, True, True, T...   \n",
       "1103  [True, True, False, True, True, True, False, T...   \n",
       "1887  [True, True, True, True, True, False, True, Fa...   \n",
       "\n",
       "                                                 labels  label_count  \n",
       "5239  [O, O, O, O, O, O, O, O, O, O, O, O, O, O, O, ...          860  \n",
       "103   [O, O, O, O, O, O, O, O, O, O, O, O, O, O, O, ...          293  \n",
       "114   [O, O, O, O, O, O, O, O, O, O, O, O, O, O, O, ...          692  \n",
       "1103  [B-NAME_STUDENT, I-NAME_STUDENT, O, B-STREET_A...          707  \n",
       "1887  [O, O, O, O, O, O, O, O, O, O, O, O, O, O, O, ...         1210  "
      ]
     },
     "execution_count": 10,
     "metadata": {},
     "output_type": "execute_result"
    }
   ],
   "source": [
    "mini_dataset.tail()"
   ]
  },
  {
   "cell_type": "code",
   "execution_count": 11,
   "id": "0f6f53ba",
   "metadata": {
    "execution": {
     "iopub.execute_input": "2024-02-26T17:18:15.987103Z",
     "iopub.status.busy": "2024-02-26T17:18:15.986475Z",
     "iopub.status.idle": "2024-02-26T17:18:15.996658Z",
     "shell.execute_reply": "2024-02-26T17:18:15.995555Z"
    },
    "papermill": {
     "duration": 0.026354,
     "end_time": "2024-02-26T17:18:15.998718",
     "exception": false,
     "start_time": "2024-02-26T17:18:15.972364",
     "status": "completed"
    },
    "tags": []
   },
   "outputs": [
    {
     "name": "stdout",
     "output_type": "stream",
     "text": [
      "<class 'pandas.core.frame.DataFrame'>\n",
      "Index: 505 entries, 2589 to 1887\n",
      "Data columns (total 6 columns):\n",
      " #   Column               Non-Null Count  Dtype \n",
      "---  ------               --------------  ----- \n",
      " 0   document             505 non-null    int64 \n",
      " 1   full_text            505 non-null    object\n",
      " 2   tokens               505 non-null    object\n",
      " 3   trailing_whitespace  505 non-null    object\n",
      " 4   labels               505 non-null    object\n",
      " 5   label_count          505 non-null    int64 \n",
      "dtypes: int64(2), object(4)\n",
      "memory usage: 27.6+ KB\n"
     ]
    }
   ],
   "source": [
    "mini_dataset.info()"
   ]
  },
  {
   "cell_type": "code",
   "execution_count": 12,
   "id": "1911eb57",
   "metadata": {
    "execution": {
     "iopub.execute_input": "2024-02-26T17:18:16.026425Z",
     "iopub.status.busy": "2024-02-26T17:18:16.025573Z",
     "iopub.status.idle": "2024-02-26T17:18:16.096872Z",
     "shell.execute_reply": "2024-02-26T17:18:16.095459Z"
    },
    "papermill": {
     "duration": 0.087723,
     "end_time": "2024-02-26T17:18:16.099303",
     "exception": false,
     "start_time": "2024-02-26T17:18:16.011580",
     "status": "completed"
    },
    "tags": []
   },
   "outputs": [
    {
     "name": "stdout",
     "output_type": "stream",
     "text": [
      "Mini Veri Setindeki Her Bir Etiket Sayısı:\n",
      "labels\n",
      "O                   744268\n",
      "B-NAME_STUDENT         225\n",
      "I-NAME_STUDENT         186\n",
      "B-URL_PERSONAL          25\n",
      "I-STREET_ADDRESS        20\n",
      "B-EMAIL                  6\n",
      "B-ID_NUM                 4\n",
      "I-PHONE_NUM              3\n",
      "B-PHONE_NUM              2\n",
      "B-STREET_ADDRESS         2\n",
      "I-ID_NUM                 1\n",
      "I-URL_PERSONAL           1\n",
      "B-USERNAME               1\n",
      "Name: count, dtype: int64\n"
     ]
    }
   ],
   "source": [
    "# Her bir etiket sınıfına ait belge sayılarını hesaplayın\n",
    "etiket_sayilari = mini_dataset['labels'].explode().value_counts()\n",
    "\n",
    "# Sonuçları yazdırın\n",
    "print(\"Mini Veri Setindeki Her Bir Etiket Sayısı:\")\n",
    "print(etiket_sayilari)\n"
   ]
  },
  {
   "cell_type": "code",
   "execution_count": 13,
   "id": "a692b093",
   "metadata": {
    "execution": {
     "iopub.execute_input": "2024-02-26T17:18:16.127125Z",
     "iopub.status.busy": "2024-02-26T17:18:16.126752Z",
     "iopub.status.idle": "2024-02-26T17:18:16.309265Z",
     "shell.execute_reply": "2024-02-26T17:18:16.307675Z"
    },
    "papermill": {
     "duration": 0.199371,
     "end_time": "2024-02-26T17:18:16.311639",
     "exception": false,
     "start_time": "2024-02-26T17:18:16.112268",
     "status": "completed"
    },
    "tags": []
   },
   "outputs": [
    {
     "name": "stdout",
     "output_type": "stream",
     "text": [
      "O: 505 satır\n",
      "B-NAME_STUDENT: 121 satır\n",
      "I-NAME_STUDENT: 119 satır\n",
      "B-URL_PERSONAL: 15 satır\n",
      "I-STREET_ADDRESS: 2 satır\n",
      "B-EMAIL: 4 satır\n",
      "B-ID_NUM: 3 satır\n",
      "I-PHONE_NUM: 1 satır\n",
      "B-PHONE_NUM: 2 satır\n",
      "B-STREET_ADDRESS: 2 satır\n",
      "I-ID_NUM: 1 satır\n",
      "I-URL_PERSONAL: 1 satır\n",
      "B-USERNAME: 1 satır\n"
     ]
    }
   ],
   "source": [
    "# Mini veri setinde her bir etiketin bulunduğu belge sayısını hesaplayın\n",
    "mini_etiket_belge_sayisi = mini_dataset['labels'].explode().value_counts()\n",
    "\n",
    "# Her bir etiket için en az bir tane bulunan satır sayısını hesaplayın\n",
    "for etiket in mini_etiket_belge_sayisi.index:\n",
    "    satir_sayisi = mini_dataset['labels'].apply(lambda x: etiket in x).sum()\n",
    "    print(f\"{etiket}: {satir_sayisi} satır\")\n"
   ]
  },
  {
   "cell_type": "code",
   "execution_count": 14,
   "id": "8015af31",
   "metadata": {
    "execution": {
     "iopub.execute_input": "2024-02-26T17:18:16.339462Z",
     "iopub.status.busy": "2024-02-26T17:18:16.339093Z",
     "iopub.status.idle": "2024-02-26T17:18:16.344473Z",
     "shell.execute_reply": "2024-02-26T17:18:16.343380Z"
    },
    "papermill": {
     "duration": 0.021841,
     "end_time": "2024-02-26T17:18:16.346623",
     "exception": false,
     "start_time": "2024-02-26T17:18:16.324782",
     "status": "completed"
    },
    "tags": []
   },
   "outputs": [],
   "source": [
    "mini_dataset = mini_dataset.drop(columns=['label_count'])\n"
   ]
  },
  {
   "cell_type": "code",
   "execution_count": 15,
   "id": "222fce1d",
   "metadata": {
    "execution": {
     "iopub.execute_input": "2024-02-26T17:18:16.374343Z",
     "iopub.status.busy": "2024-02-26T17:18:16.373976Z",
     "iopub.status.idle": "2024-02-26T17:18:16.385349Z",
     "shell.execute_reply": "2024-02-26T17:18:16.384274Z"
    },
    "papermill": {
     "duration": 0.028061,
     "end_time": "2024-02-26T17:18:16.387662",
     "exception": false,
     "start_time": "2024-02-26T17:18:16.359601",
     "status": "completed"
    },
    "tags": []
   },
   "outputs": [
    {
     "name": "stdout",
     "output_type": "stream",
     "text": [
      "<class 'pandas.core.frame.DataFrame'>\n",
      "Index: 505 entries, 2589 to 1887\n",
      "Data columns (total 5 columns):\n",
      " #   Column               Non-Null Count  Dtype \n",
      "---  ------               --------------  ----- \n",
      " 0   document             505 non-null    int64 \n",
      " 1   full_text            505 non-null    object\n",
      " 2   tokens               505 non-null    object\n",
      " 3   trailing_whitespace  505 non-null    object\n",
      " 4   labels               505 non-null    object\n",
      "dtypes: int64(1), object(4)\n",
      "memory usage: 23.7+ KB\n"
     ]
    }
   ],
   "source": [
    "mini_dataset.info()"
   ]
  },
  {
   "cell_type": "code",
   "execution_count": 16,
   "id": "e575c7da",
   "metadata": {
    "execution": {
     "iopub.execute_input": "2024-02-26T17:18:16.415544Z",
     "iopub.status.busy": "2024-02-26T17:18:16.415143Z",
     "iopub.status.idle": "2024-02-26T17:18:19.710879Z",
     "shell.execute_reply": "2024-02-26T17:18:19.709956Z"
    },
    "papermill": {
     "duration": 3.312341,
     "end_time": "2024-02-26T17:18:19.713168",
     "exception": false,
     "start_time": "2024-02-26T17:18:16.400827",
     "status": "completed"
    },
    "tags": []
   },
   "outputs": [
    {
     "data": {
      "image/png": "[encoded data removed]",
      "text/plain": [
       "<Figure size 1500x600 with 2 Axes>"
      ]
     },
     "metadata": {},
     "output_type": "display_data"
    }
   ],
   "source": [
    "import pandas as pd\n",
    "import matplotlib.pyplot as plt\n",
    "\n",
    "# org_train veri setini yükleyin (dosya yolu doğru belirtilmelidir)\n",
    "org_train = json.load(open('/kaggle/input/pii-detection-removal-from-educational-data/train.json'))\n",
    "\n",
    "# org_train veri setini DataFrame'e dönüştürün\n",
    "org_train_df = pd.DataFrame(org_train)\n",
    "\n",
    "# Mini dataset için O etiketi hariç diğer etiketlerin dağılımını hesaplayın\n",
    "mini_etiketler = mini_dataset['labels'].explode()\n",
    "mini_etiketler = mini_etiketler[mini_etiketler != 'O']\n",
    "mini_etiket_dağılımı = mini_etiketler.value_counts()\n",
    "\n",
    "# org_train veri seti için O etiketi hariç diğer etiketlerin dağılımını hesaplayın\n",
    "org_etiketler = org_train_df['labels'].explode()\n",
    "org_etiketler = org_etiketler[org_etiketler != 'O']\n",
    "org_etiket_dağılımı = org_etiketler.value_counts()\n",
    "\n",
    "# Grafikleri oluşturun\n",
    "plt.figure(figsize=(15, 6))\n",
    "\n",
    "# Sütun grafik oluşturun\n",
    "plt.subplot(1, 2, 1)\n",
    "org_etiket_dağılımı.plot(kind='bar', color='blue', alpha=0.5, label='Org Train Dataset')\n",
    "plt.title('Org Train Dataset Etiket Dağılımı')\n",
    "plt.xlabel('Etiketler')\n",
    "plt.ylabel('Sayı')\n",
    "plt.legend()\n",
    "\n",
    "# Sütun grafik oluşturun\n",
    "plt.subplot(1, 2, 2)\n",
    "mini_etiket_dağılımı.plot(kind='bar', color='pink', alpha=0.5, label='Mini Dataset')\n",
    "plt.title('Mini Dataset Etiket Dağılımı')\n",
    "plt.xlabel('Etiketler')\n",
    "plt.ylabel('Sayı')\n",
    "plt.legend()\n",
    "\n",
    "# Grafikleri gösterin\n",
    "plt.tight_layout()\n",
    "plt.show()\n"
   ]
  },
  {
   "cell_type": "code",
   "execution_count": 17,
   "id": "62e96c91",
   "metadata": {
    "execution": {
     "iopub.execute_input": "2024-02-26T17:18:19.743251Z",
     "iopub.status.busy": "2024-02-26T17:18:19.742865Z",
     "iopub.status.idle": "2024-02-26T17:18:22.397367Z",
     "shell.execute_reply": "2024-02-26T17:18:22.396624Z"
    },
    "papermill": {
     "duration": 2.67239,
     "end_time": "2024-02-26T17:18:22.399683",
     "exception": false,
     "start_time": "2024-02-26T17:18:19.727293",
     "status": "completed"
    },
    "tags": []
   },
   "outputs": [
    {
     "name": "stderr",
     "output_type": "stream",
     "text": [
      "/tmp/ipykernel_18/2180492386.py:27: FutureWarning: Series.__getitem__ treating keys as positions is deprecated. In a future version, integer keys will always be treated as labels (consistent with DataFrame behavior). To access a value by position, use `ser.iloc[pos]`\n",
      "  plt.text(i, org_etiket_dağılımı[i] + 0.5, f\"{org_etiket_dağılımı[i]:.2f}%\", ha='center', va='bottom')\n",
      "/tmp/ipykernel_18/2180492386.py:37: FutureWarning: Series.__getitem__ treating keys as positions is deprecated. In a future version, integer keys will always be treated as labels (consistent with DataFrame behavior). To access a value by position, use `ser.iloc[pos]`\n",
      "  plt.text(i, mini_etiket_dağılımı[i] + 0.5, f\"{mini_etiket_dağılımı[i]:.2f}%\", ha='center', va='bottom')\n"
     ]
    },
    {
     "data": {
      "image/png": "[encoded data removed]",
      "text/plain": [
       "<Figure size 1500x600 with 2 Axes>"
      ]
     },
     "metadata": {},
     "output_type": "display_data"
    }
   ],
   "source": [
    "import pandas as pd\n",
    "import matplotlib.pyplot as plt\n",
    "\n",
    "# org_train veri setini yükleyin (dosya yolu doğru belirtilmelidir)\n",
    "org_train = json.load(open('/kaggle/input/pii-detection-removal-from-educational-data/train.json'))\n",
    "\n",
    "# org_train veri setini DataFrame'e dönüştürün\n",
    "org_train_df = pd.DataFrame(org_train)\n",
    "\n",
    "# Mini dataset için O etiketi hariç diğer etiketlerin dağılımını hesaplayın\n",
    "mini_etiketler = mini_dataset['labels'].explode()\n",
    "mini_etiketler = mini_etiketler[mini_etiketler != 'O']\n",
    "mini_etiket_dağılımı = mini_etiketler.value_counts(normalize=True) * 100\n",
    "\n",
    "# org_train veri seti için O etiketi hariç diğer etiketlerin dağılımını hesaplayın\n",
    "org_etiketler = org_train_df['labels'].explode()\n",
    "org_etiketler = org_etiketler[org_etiketler != 'O']\n",
    "org_etiket_dağılımı = org_etiketler.value_counts(normalize=True) * 100\n",
    "\n",
    "# Grafikleri oluşturun\n",
    "plt.figure(figsize=(15, 6))\n",
    "\n",
    "# Sütun grafik oluşturun\n",
    "plt.subplot(1, 2, 1)\n",
    "org_etiket_dağılımı.plot(kind='bar', color='blue', alpha=0.5, label='Org Train Dataset')\n",
    "for i in range(len(org_etiket_dağılımı)):\n",
    "    plt.text(i, org_etiket_dağılımı[i] + 0.5, f\"{org_etiket_dağılımı[i]:.2f}%\", ha='center', va='bottom')\n",
    "plt.title('Org Train Dataset Etiket Dağılımı')\n",
    "plt.xlabel('Etiketler')\n",
    "plt.ylabel('Yüzde')\n",
    "plt.legend()\n",
    "\n",
    "# Sütun grafik oluşturun\n",
    "plt.subplot(1, 2, 2)\n",
    "mini_etiket_dağılımı.plot(kind='bar', color='pink', alpha=0.5, label='Mini Dataset')\n",
    "for i in range(len(mini_etiket_dağılımı)):\n",
    "    plt.text(i, mini_etiket_dağılımı[i] + 0.5, f\"{mini_etiket_dağılımı[i]:.2f}%\", ha='center', va='bottom')\n",
    "plt.title('Mini Dataset Etiket Dağılımı')\n",
    "plt.xlabel('Etiketler')\n",
    "plt.ylabel('Yüzde')\n",
    "plt.legend()\n",
    "\n",
    "# Grafikleri gösterin\n",
    "plt.tight_layout()\n",
    "plt.show()\n"
   ]
  },
  {
   "cell_type": "code",
   "execution_count": 18,
   "id": "e574e0a8",
   "metadata": {
    "execution": {
     "iopub.execute_input": "2024-02-26T17:18:22.431936Z",
     "iopub.status.busy": "2024-02-26T17:18:22.431555Z",
     "iopub.status.idle": "2024-02-26T17:18:22.618103Z",
     "shell.execute_reply": "2024-02-26T17:18:22.617152Z"
    },
    "papermill": {
     "duration": 0.205566,
     "end_time": "2024-02-26T17:18:22.620552",
     "exception": false,
     "start_time": "2024-02-26T17:18:22.414986",
     "status": "completed"
    },
    "tags": []
   },
   "outputs": [],
   "source": [
    "df = pd.DataFrame(mini_dataset)\n",
    "\n",
    "df.to_json('train_10p.json', orient='records')"
   ]
  },
  {
   "cell_type": "code",
   "execution_count": 19,
   "id": "d121066b",
   "metadata": {
    "execution": {
     "iopub.execute_input": "2024-02-26T17:18:22.711718Z",
     "iopub.status.busy": "2024-02-26T17:18:22.711337Z",
     "iopub.status.idle": "2024-02-26T17:18:23.325788Z",
     "shell.execute_reply": "2024-02-26T17:18:23.324564Z"
    },
    "papermill": {
     "duration": 0.63369,
     "end_time": "2024-02-26T17:18:23.328530",
     "exception": false,
     "start_time": "2024-02-26T17:18:22.694840",
     "status": "completed"
    },
    "tags": []
   },
   "outputs": [],
   "source": [
    "df = pd.DataFrame(mini_dataset)\n",
    "\n",
    "df.to_csv('MiniDSv1.csv', index=False)\n"
   ]
  },
  {
   "cell_type": "markdown",
   "id": "a565d7cb",
   "metadata": {
    "papermill": {
     "duration": 0.015349,
     "end_time": "2024-02-26T17:18:23.359469",
     "exception": false,
     "start_time": "2024-02-26T17:18:23.344120",
     "status": "completed"
    },
    "tags": []
   },
   "source": [
    "# Creating Validation Data Set"
   ]
  },
  {
   "cell_type": "code",
   "execution_count": 20,
   "id": "36b04c6f",
   "metadata": {
    "execution": {
     "iopub.execute_input": "2024-02-26T17:18:23.392887Z",
     "iopub.status.busy": "2024-02-26T17:18:23.391906Z",
     "iopub.status.idle": "2024-02-26T17:18:25.948442Z",
     "shell.execute_reply": "2024-02-26T17:18:25.947330Z"
    },
    "papermill": {
     "duration": 2.575492,
     "end_time": "2024-02-26T17:18:25.950504",
     "exception": false,
     "start_time": "2024-02-26T17:18:23.375012",
     "status": "completed"
    },
    "tags": []
   },
   "outputs": [
    {
     "name": "stdout",
     "output_type": "stream",
     "text": [
      "Size of Validation Data Set Created: (505, 6)\n"
     ]
    },
    {
     "data": {
      "text/html": [
       "<div>\n",
       "<style scoped>\n",
       "    .dataframe tbody tr th:only-of-type {\n",
       "        vertical-align: middle;\n",
       "    }\n",
       "\n",
       "    .dataframe tbody tr th {\n",
       "        vertical-align: top;\n",
       "    }\n",
       "\n",
       "    .dataframe thead th {\n",
       "        text-align: right;\n",
       "    }\n",
       "</style>\n",
       "<table border=\"1\" class=\"dataframe\">\n",
       "  <thead>\n",
       "    <tr style=\"text-align: right;\">\n",
       "      <th></th>\n",
       "      <th>document</th>\n",
       "      <th>full_text</th>\n",
       "      <th>tokens</th>\n",
       "      <th>trailing_whitespace</th>\n",
       "      <th>labels</th>\n",
       "      <th>label_count</th>\n",
       "    </tr>\n",
       "  </thead>\n",
       "  <tbody>\n",
       "    <tr>\n",
       "      <th>2279</th>\n",
       "      <td>12254</td>\n",
       "      <td>Levels of Learning through Learning Launch\\n\\n...</td>\n",
       "      <td>[Levels, of, Learning, through, Learning, Laun...</td>\n",
       "      <td>[True, True, True, True, True, False, False, F...</td>\n",
       "      <td>[O, O, O, O, O, O, O, O, O, O, O, O, O, O, O, ...</td>\n",
       "      <td>1141</td>\n",
       "    </tr>\n",
       "    <tr>\n",
       "      <th>5951</th>\n",
       "      <td>20872</td>\n",
       "      <td>Storytelling\\n\\nChallenge and Selection    Sto...</td>\n",
       "      <td>[Storytelling, \\n\\n, Challenge, and, Selection...</td>\n",
       "      <td>[False, False, True, True, True, False, True, ...</td>\n",
       "      <td>[O, O, O, O, O, O, O, O, O, O, O, O, O, O, O, ...</td>\n",
       "      <td>1197</td>\n",
       "    </tr>\n",
       "    <tr>\n",
       "      <th>5770</th>\n",
       "      <td>20446</td>\n",
       "      <td>Example Reflection – Mind Mapping\\n\\nChallenge...</td>\n",
       "      <td>[Example, Reflection, –, Mind, Mapping, \\n\\n, ...</td>\n",
       "      <td>[True, True, True, True, False, False, True, F...</td>\n",
       "      <td>[O, O, O, O, O, O, O, O, O, O, O, O, O, O, O, ...</td>\n",
       "      <td>1208</td>\n",
       "    </tr>\n",
       "    <tr>\n",
       "      <th>3229</th>\n",
       "      <td>14412</td>\n",
       "      <td>Challenge &amp; Selection\\n\\nOne of our clients, a...</td>\n",
       "      <td>[Challenge, &amp;, Selection, \\n\\n, One, of, our, ...</td>\n",
       "      <td>[True, True, False, False, True, True, True, F...</td>\n",
       "      <td>[O, O, O, O, O, O, O, O, O, O, O, O, O, O, O, ...</td>\n",
       "      <td>1101</td>\n",
       "    </tr>\n",
       "    <tr>\n",
       "      <th>2155</th>\n",
       "      <td>11988</td>\n",
       "      <td>Storytelling-Reduction of overtime of BCWs at ...</td>\n",
       "      <td>[Storytelling, -, Reduction, of, overtime, of,...</td>\n",
       "      <td>[False, False, True, True, True, True, True, T...</td>\n",
       "      <td>[O, O, O, O, O, O, O, O, O, O, O, O, O, O, O, ...</td>\n",
       "      <td>1071</td>\n",
       "    </tr>\n",
       "  </tbody>\n",
       "</table>\n",
       "</div>"
      ],
      "text/plain": [
       "      document                                          full_text  \\\n",
       "2279     12254  Levels of Learning through Learning Launch\\n\\n...   \n",
       "5951     20872  Storytelling\\n\\nChallenge and Selection    Sto...   \n",
       "5770     20446  Example Reflection – Mind Mapping\\n\\nChallenge...   \n",
       "3229     14412  Challenge & Selection\\n\\nOne of our clients, a...   \n",
       "2155     11988  Storytelling-Reduction of overtime of BCWs at ...   \n",
       "\n",
       "                                                 tokens  \\\n",
       "2279  [Levels, of, Learning, through, Learning, Laun...   \n",
       "5951  [Storytelling, \\n\\n, Challenge, and, Selection...   \n",
       "5770  [Example, Reflection, –, Mind, Mapping, \\n\\n, ...   \n",
       "3229  [Challenge, &, Selection, \\n\\n, One, of, our, ...   \n",
       "2155  [Storytelling, -, Reduction, of, overtime, of,...   \n",
       "\n",
       "                                    trailing_whitespace  \\\n",
       "2279  [True, True, True, True, True, False, False, F...   \n",
       "5951  [False, False, True, True, True, False, True, ...   \n",
       "5770  [True, True, True, True, False, False, True, F...   \n",
       "3229  [True, True, False, False, True, True, True, F...   \n",
       "2155  [False, False, True, True, True, True, True, T...   \n",
       "\n",
       "                                                 labels  label_count  \n",
       "2279  [O, O, O, O, O, O, O, O, O, O, O, O, O, O, O, ...         1141  \n",
       "5951  [O, O, O, O, O, O, O, O, O, O, O, O, O, O, O, ...         1197  \n",
       "5770  [O, O, O, O, O, O, O, O, O, O, O, O, O, O, O, ...         1208  \n",
       "3229  [O, O, O, O, O, O, O, O, O, O, O, O, O, O, O, ...         1101  \n",
       "2155  [O, O, O, O, O, O, O, O, O, O, O, O, O, O, O, ...         1071  "
      ]
     },
     "execution_count": 20,
     "metadata": {},
     "output_type": "execute_result"
    }
   ],
   "source": [
    "\n",
    "# org_train veri setini DataFrame'e dönüştürün\n",
    "org_train_df = pd.DataFrame(org_train)\n",
    "\n",
    "# Her bir belgenin etiket sayısını hesaplayın\n",
    "org_train_df['label_count'] = org_train_df['labels'].apply(len)\n",
    "\n",
    "# Etiket sayısına göre belgeleri sıralayın\n",
    "org_train_df = org_train_df.sort_values(by='label_count', ascending=False)\n",
    "\n",
    "# En çok etiket içeren ikinci 502-1007 belgeyi seçin\n",
    "validation_data = org_train_df.iloc[502:1007]\n",
    "\n",
    "# Eksik etiketleri bulun\n",
    "eksik_etiketler = set(['O', 'B-NAME_STUDENT', 'I-NAME_STUDENT', 'B-URL_PERSONAL', 'B-ID_NUM', 'B-EMAIL', 'I-STREET_ADDRESS', 'I-PHONE_NUM', 'B-USERNAME', 'B-PHONE_NUM', 'B-STREET_ADDRESS', 'I-URL_PERSONAL', 'I-ID_NUM']) - set(validation_data['labels'].explode().unique())\n",
    "\n",
    "# Eksik etiketlerden birer tane örnek alarak eksik belgeleri doldurun\n",
    "for etiket in eksik_etiketler:\n",
    "    if etiket in org_train_df['labels'].explode().unique():\n",
    "        belge = org_train_df[org_train_df['labels'].apply(lambda x: etiket in x)].sample(n=1)\n",
    "        validation_data = pd.concat([validation_data, belge])\n",
    "\n",
    "# Veri kümesini belirli bir boyuta indir\n",
    "desired_size = 505\n",
    "if len(validation_data) > desired_size:\n",
    "    validation_data = validation_data.sample(n=desired_size)\n",
    " \n",
    "# Sonuçları gösterin\n",
    "print(\"Size of Validation Data Set Created:\", validation_data.shape)\n",
    "validation_data.head()\n"
   ]
  },
  {
   "cell_type": "code",
   "execution_count": 21,
   "id": "a08e7777",
   "metadata": {
    "execution": {
     "iopub.execute_input": "2024-02-26T17:18:25.983808Z",
     "iopub.status.busy": "2024-02-26T17:18:25.983436Z",
     "iopub.status.idle": "2024-02-26T17:18:25.988803Z",
     "shell.execute_reply": "2024-02-26T17:18:25.987731Z"
    },
    "papermill": {
     "duration": 0.024604,
     "end_time": "2024-02-26T17:18:25.990859",
     "exception": false,
     "start_time": "2024-02-26T17:18:25.966255",
     "status": "completed"
    },
    "tags": []
   },
   "outputs": [],
   "source": [
    "validation_data = validation_data.drop(columns=['label_count'])\n"
   ]
  },
  {
   "cell_type": "code",
   "execution_count": 22,
   "id": "ae82cad7",
   "metadata": {
    "execution": {
     "iopub.execute_input": "2024-02-26T17:18:26.025183Z",
     "iopub.status.busy": "2024-02-26T17:18:26.024570Z",
     "iopub.status.idle": "2024-02-26T17:18:26.035339Z",
     "shell.execute_reply": "2024-02-26T17:18:26.034290Z"
    },
    "papermill": {
     "duration": 0.030776,
     "end_time": "2024-02-26T17:18:26.037471",
     "exception": false,
     "start_time": "2024-02-26T17:18:26.006695",
     "status": "completed"
    },
    "tags": []
   },
   "outputs": [
    {
     "name": "stdout",
     "output_type": "stream",
     "text": [
      "<class 'pandas.core.frame.DataFrame'>\n",
      "Index: 505 entries, 2279 to 2554\n",
      "Data columns (total 5 columns):\n",
      " #   Column               Non-Null Count  Dtype \n",
      "---  ------               --------------  ----- \n",
      " 0   document             505 non-null    int64 \n",
      " 1   full_text            505 non-null    object\n",
      " 2   tokens               505 non-null    object\n",
      " 3   trailing_whitespace  505 non-null    object\n",
      " 4   labels               505 non-null    object\n",
      "dtypes: int64(1), object(4)\n",
      "memory usage: 23.7+ KB\n"
     ]
    }
   ],
   "source": [
    "validation_data.info()"
   ]
  },
  {
   "cell_type": "code",
   "execution_count": 23,
   "id": "4bed8afd",
   "metadata": {
    "execution": {
     "iopub.execute_input": "2024-02-26T17:18:26.071932Z",
     "iopub.status.busy": "2024-02-26T17:18:26.071072Z",
     "iopub.status.idle": "2024-02-26T17:18:26.211504Z",
     "shell.execute_reply": "2024-02-26T17:18:26.210459Z"
    },
    "papermill": {
     "duration": 0.160372,
     "end_time": "2024-02-26T17:18:26.213961",
     "exception": false,
     "start_time": "2024-02-26T17:18:26.053589",
     "status": "completed"
    },
    "tags": []
   },
   "outputs": [
    {
     "name": "stdout",
     "output_type": "stream",
     "text": [
      "O: 505 row\n",
      "B-NAME_STUDENT: 109 row\n",
      "I-NAME_STUDENT: 97 row\n",
      "B-URL_PERSONAL: 12 row\n",
      "I-STREET_ADDRESS: 1 row\n",
      "B-ID_NUM: 2 row\n",
      "I-PHONE_NUM: 1 row\n",
      "B-EMAIL: 3 row\n",
      "B-PHONE_NUM: 1 row\n",
      "I-ID_NUM: 1 row\n",
      "B-USERNAME: 1 row\n",
      "B-STREET_ADDRESS: 1 row\n",
      "I-URL_PERSONAL: 1 row\n"
     ]
    }
   ],
   "source": [
    "document_count = validation_data['labels'].explode().value_counts()\n",
    "\n",
    "# Her bir etiket için en az bir tane bulunan satır sayısını hesaplayın\n",
    "for etiket in document_count.index:\n",
    "    satir_sayisi = validation_data['labels'].apply(lambda x: etiket in x).sum()\n",
    "    print(f\"{etiket}: {satir_sayisi} row\")\n"
   ]
  },
  {
   "cell_type": "code",
   "execution_count": 24,
   "id": "5e20543b",
   "metadata": {
    "execution": {
     "iopub.execute_input": "2024-02-26T17:18:26.248000Z",
     "iopub.status.busy": "2024-02-26T17:18:26.247661Z",
     "iopub.status.idle": "2024-02-26T17:18:26.254151Z",
     "shell.execute_reply": "2024-02-26T17:18:26.252936Z"
    },
    "papermill": {
     "duration": 0.02603,
     "end_time": "2024-02-26T17:18:26.256210",
     "exception": false,
     "start_time": "2024-02-26T17:18:26.230180",
     "status": "completed"
    },
    "tags": []
   },
   "outputs": [
    {
     "name": "stdout",
     "output_type": "stream",
     "text": [
      "There are 4 common document IDs in both datasets.\n"
     ]
    }
   ],
   "source": [
    "# Extract document IDs from the mini dataset and validation dataset\n",
    "mini_doc_ids = set(mini_dataset['document'])\n",
    "validation_doc_ids = set(validation_data['document'])\n",
    "\n",
    "# Find the common document IDs between both datasets\n",
    "common_doc_ids = mini_doc_ids.intersection(validation_doc_ids)\n",
    "\n",
    "# Find the number of common document IDs\n",
    "num_common_docs = len(common_doc_ids)\n",
    "\n",
    "# Print the result\n",
    "print(\"There are\", num_common_docs, \"common document IDs in both datasets.\")\n"
   ]
  },
  {
   "cell_type": "code",
   "execution_count": 25,
   "id": "2692392f",
   "metadata": {
    "execution": {
     "iopub.execute_input": "2024-02-26T17:18:26.290373Z",
     "iopub.status.busy": "2024-02-26T17:18:26.290017Z",
     "iopub.status.idle": "2024-02-26T17:18:26.909660Z",
     "shell.execute_reply": "2024-02-26T17:18:26.908597Z"
    },
    "papermill": {
     "duration": 0.639497,
     "end_time": "2024-02-26T17:18:26.911927",
     "exception": false,
     "start_time": "2024-02-26T17:18:26.272430",
     "status": "completed"
    },
    "tags": []
   },
   "outputs": [
    {
     "name": "stderr",
     "output_type": "stream",
     "text": [
      "/tmp/ipykernel_18/660071937.py:11: UserWarning: FixedFormatter should only be used together with FixedLocator\n",
      "  ax.set_xticklabels(label_counts.index, rotation='vertical')  # Rotate x-axis labels vertically\n",
      "/tmp/ipykernel_18/660071937.py:11: UserWarning: FixedFormatter should only be used together with FixedLocator\n",
      "  ax.set_xticklabels(label_counts.index, rotation='vertical')  # Rotate x-axis labels vertically\n"
     ]
    },
    {
     "data": {
      "image/png": "[encoded data removed]",
      "text/plain": [
       "<Figure size 1400x600 with 2 Axes>"
      ]
     },
     "metadata": {},
     "output_type": "display_data"
    }
   ],
   "source": [
    "import matplotlib.pyplot as plt\n",
    "import numpy as np\n",
    "\n",
    "# Function to plot label distribution excluding 'O' label\n",
    "def plot_label_distribution_excluding_O(data, title, ax):\n",
    "    label_counts = data['labels'].explode().value_counts().drop('O')\n",
    "    ax.bar(label_counts.index, label_counts.values)\n",
    "    ax.set_title(title)\n",
    "    ax.set_xlabel('Labels')\n",
    "    ax.set_ylabel('Count')\n",
    "    ax.set_xticklabels(label_counts.index, rotation='vertical')  # Rotate x-axis labels vertically\n",
    "\n",
    "# Create a figure and axes objects\n",
    "fig, axs = plt.subplots(nrows=1, ncols=2, figsize=(14, 6))\n",
    "\n",
    "# Plot label distribution for mini dataset excluding 'O' label\n",
    "plot_label_distribution_excluding_O(mini_dataset, 'Mini Dataset Label Distribution (Excluding O)', axs[0])\n",
    "\n",
    "# Plot label distribution for validation dataset excluding 'O' label\n",
    "plot_label_distribution_excluding_O(validation_data, 'Validation Dataset Label Distribution (Excluding O)', axs[1])\n",
    "\n",
    "# Adjust layout and display the plot\n",
    "plt.tight_layout()\n",
    "plt.show()\n"
   ]
  },
  {
   "cell_type": "code",
   "execution_count": 26,
   "id": "7b3d0997",
   "metadata": {
    "execution": {
     "iopub.execute_input": "2024-02-26T17:18:26.947796Z",
     "iopub.status.busy": "2024-02-26T17:18:26.947432Z",
     "iopub.status.idle": "2024-02-26T17:18:27.170190Z",
     "shell.execute_reply": "2024-02-26T17:18:27.168970Z"
    },
    "papermill": {
     "duration": 0.243887,
     "end_time": "2024-02-26T17:18:27.172891",
     "exception": false,
     "start_time": "2024-02-26T17:18:26.929004",
     "status": "completed"
    },
    "tags": []
   },
   "outputs": [],
   "source": [
    "validation_data.to_json(\"val.json\", orient=\"records\", lines=True)\n"
   ]
  },
  {
   "cell_type": "markdown",
   "id": "9b63fee6",
   "metadata": {
    "papermill": {
     "duration": 0.017044,
     "end_time": "2024-02-26T17:18:27.207588",
     "exception": false,
     "start_time": "2024-02-26T17:18:27.190544",
     "status": "completed"
    },
    "tags": []
   },
   "source": [
    "# Creating Mini Data Set 2 (approx.50%)"
   ]
  },
  {
   "cell_type": "code",
   "execution_count": 27,
   "id": "9dccef68",
   "metadata": {
    "execution": {
     "iopub.execute_input": "2024-02-26T17:18:27.243830Z",
     "iopub.status.busy": "2024-02-26T17:18:27.243456Z",
     "iopub.status.idle": "2024-02-26T17:18:31.023432Z",
     "shell.execute_reply": "2024-02-26T17:18:31.022038Z"
    },
    "papermill": {
     "duration": 3.801059,
     "end_time": "2024-02-26T17:18:31.025929",
     "exception": false,
     "start_time": "2024-02-26T17:18:27.224870",
     "status": "completed"
    },
    "tags": []
   },
   "outputs": [
    {
     "name": "stdout",
     "output_type": "stream",
     "text": [
      "Oluşturulan Mini Veri Setinin Boyutu: (3404, 5)\n"
     ]
    },
    {
     "data": {
      "text/html": [
       "<div>\n",
       "<style scoped>\n",
       "    .dataframe tbody tr th:only-of-type {\n",
       "        vertical-align: middle;\n",
       "    }\n",
       "\n",
       "    .dataframe tbody tr th {\n",
       "        vertical-align: top;\n",
       "    }\n",
       "\n",
       "    .dataframe thead th {\n",
       "        text-align: right;\n",
       "    }\n",
       "</style>\n",
       "<table border=\"1\" class=\"dataframe\">\n",
       "  <thead>\n",
       "    <tr style=\"text-align: right;\">\n",
       "      <th></th>\n",
       "      <th>document</th>\n",
       "      <th>full_text</th>\n",
       "      <th>tokens</th>\n",
       "      <th>trailing_whitespace</th>\n",
       "      <th>labels</th>\n",
       "    </tr>\n",
       "  </thead>\n",
       "  <tbody>\n",
       "    <tr>\n",
       "      <th>2589</th>\n",
       "      <td>12888</td>\n",
       "      <td>Re-Engaging  Students:  A  Learning  Launch  E...</td>\n",
       "      <td>[Re, -, Engaging,  , Students, :,  , A,  , Lea...</td>\n",
       "      <td>[False, False, True, False, False, True, False...</td>\n",
       "      <td>[O, O, O, O, O, O, O, O, O, O, O, O, O, O, O, ...</td>\n",
       "    </tr>\n",
       "    <tr>\n",
       "      <th>3175</th>\n",
       "      <td>14267</td>\n",
       "      <td>MIAMISBURG, Ohio, Dec. 10, 2019 /PRNewswire/ -...</td>\n",
       "      <td>[MIAMISBURG, ,, Ohio, ,, Dec., 10, ,, 2019, /P...</td>\n",
       "      <td>[False, True, False, True, True, False, True, ...</td>\n",
       "      <td>[O, O, O, O, O, O, O, O, O, O, O, O, O, O, O, ...</td>\n",
       "    </tr>\n",
       "    <tr>\n",
       "      <th>6365</th>\n",
       "      <td>21720</td>\n",
       "      <td>In this assignment, a reflective report will b...</td>\n",
       "      <td>[In, this, assignment, ,, a, reflective, repor...</td>\n",
       "      <td>[True, True, False, True, True, True, True, Tr...</td>\n",
       "      <td>[O, O, O, O, O, O, O, O, O, O, O, O, O, O, O, ...</td>\n",
       "    </tr>\n",
       "    <tr>\n",
       "      <th>1207</th>\n",
       "      <td>10078</td>\n",
       "      <td>Overcoming Barriers - The Story of the Movie a...</td>\n",
       "      <td>[Overcoming, Barriers, -, The, Story, of, the,...</td>\n",
       "      <td>[True, True, True, True, True, True, True, Tru...</td>\n",
       "      <td>[O, O, O, O, O, O, O, O, O, O, O, O, O, O, O, ...</td>\n",
       "    </tr>\n",
       "    <tr>\n",
       "      <th>781</th>\n",
       "      <td>9188</td>\n",
       "      <td>Design Thinking in Career Development and Coun...</td>\n",
       "      <td>[Design, Thinking, in, Career, Development, an...</td>\n",
       "      <td>[True, True, True, True, True, True, True, Fal...</td>\n",
       "      <td>[O, O, O, O, O, O, O, O, B-NAME_STUDENT, I-NAM...</td>\n",
       "    </tr>\n",
       "  </tbody>\n",
       "</table>\n",
       "</div>"
      ],
      "text/plain": [
       "      document                                          full_text  \\\n",
       "2589     12888  Re-Engaging  Students:  A  Learning  Launch  E...   \n",
       "3175     14267  MIAMISBURG, Ohio, Dec. 10, 2019 /PRNewswire/ -...   \n",
       "6365     21720  In this assignment, a reflective report will b...   \n",
       "1207     10078  Overcoming Barriers - The Story of the Movie a...   \n",
       "781       9188  Design Thinking in Career Development and Coun...   \n",
       "\n",
       "                                                 tokens  \\\n",
       "2589  [Re, -, Engaging,  , Students, :,  , A,  , Lea...   \n",
       "3175  [MIAMISBURG, ,, Ohio, ,, Dec., 10, ,, 2019, /P...   \n",
       "6365  [In, this, assignment, ,, a, reflective, repor...   \n",
       "1207  [Overcoming, Barriers, -, The, Story, of, the,...   \n",
       "781   [Design, Thinking, in, Career, Development, an...   \n",
       "\n",
       "                                    trailing_whitespace  \\\n",
       "2589  [False, False, True, False, False, True, False...   \n",
       "3175  [False, True, False, True, True, False, True, ...   \n",
       "6365  [True, True, False, True, True, True, True, Tr...   \n",
       "1207  [True, True, True, True, True, True, True, Tru...   \n",
       "781   [True, True, True, True, True, True, True, Fal...   \n",
       "\n",
       "                                                 labels  \n",
       "2589  [O, O, O, O, O, O, O, O, O, O, O, O, O, O, O, ...  \n",
       "3175  [O, O, O, O, O, O, O, O, O, O, O, O, O, O, O, ...  \n",
       "6365  [O, O, O, O, O, O, O, O, O, O, O, O, O, O, O, ...  \n",
       "1207  [O, O, O, O, O, O, O, O, O, O, O, O, O, O, O, ...  \n",
       "781   [O, O, O, O, O, O, O, O, B-NAME_STUDENT, I-NAM...  "
      ]
     },
     "execution_count": 27,
     "metadata": {},
     "output_type": "execute_result"
    }
   ],
   "source": [
    "\n",
    "org_train = json.load(open('/kaggle/input/pii-detection-removal-from-educational-data/train.json'))\n",
    "\n",
    "org_train_df = pd.DataFrame(org_train)\n",
    "\n",
    "org_train_df['label_count'] = org_train_df['labels'].apply(lambda x: len(x))\n",
    "\n",
    "mini_dataset2 = org_train_df.nlargest(3403, 'label_count')\n",
    "\n",
    "missing_labels = set(['O', 'B-NAME_STUDENT', 'I-NAME_STUDENT', 'B-URL_PERSONAL', 'B-ID_NUM', 'B-EMAIL', 'I-STREET_ADDRESS', 'I-PHONE_NUM', 'B-USERNAME', 'B-PHONE_NUM', 'B-STREET_ADDRESS', 'I-URL_PERSONAL', 'I-ID_NUM']) - set(mini_dataset2['labels'].explode().unique())\n",
    "\n",
    "for label in missing_labels:\n",
    "    if label in org_train_df['labels'].explode().unique():\n",
    "        document = org_train_df[org_train_df['labels'].apply(lambda x: label in x)].sample(n=1)\n",
    "        mini_dataset2 = pd.concat([mini_dataset2, document])\n",
    "\n",
    "mini_dataset2 = mini_dataset2.drop(columns=['label_count'])\n",
    "mini_dataset2.to_json('train_50p.json', orient='records')\n",
    "\n",
    "# Sonuçları gösterin\n",
    "print(\"Oluşturulan Mini Veri Setinin Boyutu:\", mini_dataset2.shape)\n",
    "mini_dataset2.head()\n"
   ]
  },
  {
   "cell_type": "code",
   "execution_count": 28,
   "id": "a1e00746",
   "metadata": {
    "execution": {
     "iopub.execute_input": "2024-02-26T17:18:31.063235Z",
     "iopub.status.busy": "2024-02-26T17:18:31.062319Z",
     "iopub.status.idle": "2024-02-26T17:18:31.086823Z",
     "shell.execute_reply": "2024-02-26T17:18:31.085893Z"
    },
    "papermill": {
     "duration": 0.045061,
     "end_time": "2024-02-26T17:18:31.088658",
     "exception": false,
     "start_time": "2024-02-26T17:18:31.043597",
     "status": "completed"
    },
    "tags": []
   },
   "outputs": [
    {
     "data": {
      "text/html": [
       "<div>\n",
       "<style scoped>\n",
       "    .dataframe tbody tr th:only-of-type {\n",
       "        vertical-align: middle;\n",
       "    }\n",
       "\n",
       "    .dataframe tbody tr th {\n",
       "        vertical-align: top;\n",
       "    }\n",
       "\n",
       "    .dataframe thead th {\n",
       "        text-align: right;\n",
       "    }\n",
       "</style>\n",
       "<table border=\"1\" class=\"dataframe\">\n",
       "  <thead>\n",
       "    <tr style=\"text-align: right;\">\n",
       "      <th></th>\n",
       "      <th>document</th>\n",
       "      <th>full_text</th>\n",
       "      <th>tokens</th>\n",
       "      <th>trailing_whitespace</th>\n",
       "      <th>labels</th>\n",
       "    </tr>\n",
       "  </thead>\n",
       "  <tbody>\n",
       "    <tr>\n",
       "      <th>4166</th>\n",
       "      <td>16688</td>\n",
       "      <td>Challenge\\n\\nI work in the business intelligen...</td>\n",
       "      <td>[Challenge, \\n\\n, I, work, in, the, business, ...</td>\n",
       "      <td>[False, False, True, True, True, True, True, T...</td>\n",
       "      <td>[O, O, O, O, O, O, O, O, O, O, O, O, O, O, O, ...</td>\n",
       "    </tr>\n",
       "    <tr>\n",
       "      <th>4223</th>\n",
       "      <td>16848</td>\n",
       "      <td>Reflection - Mind Mapping\\n\\nChallenge\\n\\nI'm ...</td>\n",
       "      <td>[Reflection, -, Mind, Mapping, \\n\\n, Challenge...</td>\n",
       "      <td>[True, True, True, False, False, False, False,...</td>\n",
       "      <td>[O, O, O, O, O, O, O, O, O, O, O, O, O, O, O, ...</td>\n",
       "    </tr>\n",
       "    <tr>\n",
       "      <th>4288</th>\n",
       "      <td>17006</td>\n",
       "      <td>Example Reflection – Mind Mapping\\n\\nChallenge...</td>\n",
       "      <td>[Example, Reflection, –, Mind, Mapping, \\n\\n, ...</td>\n",
       "      <td>[True, True, True, True, False, False, True, T...</td>\n",
       "      <td>[O, O, O, O, O, O, O, O, O, O, O, O, O, O, O, ...</td>\n",
       "    </tr>\n",
       "    <tr>\n",
       "      <th>4986</th>\n",
       "      <td>18685</td>\n",
       "      <td>Assignment, Design thinking for innovation\\n\\n...</td>\n",
       "      <td>[Assignment, ,, Design, thinking, for, innovat...</td>\n",
       "      <td>[False, True, True, True, True, False, False, ...</td>\n",
       "      <td>[O, O, O, O, O, O, O, O, O, O, O, O, O, O, O, ...</td>\n",
       "    </tr>\n",
       "    <tr>\n",
       "      <th>103</th>\n",
       "      <td>3202</td>\n",
       "      <td>Final Assignment\\n\\nUniversity of Virginia's D...</td>\n",
       "      <td>[Final, Assignment, \\n\\n, University, of, Virg...</td>\n",
       "      <td>[True, False, False, True, True, False, True, ...</td>\n",
       "      <td>[O, O, O, O, O, O, O, O, O, O, O, O, O, O, O, ...</td>\n",
       "    </tr>\n",
       "  </tbody>\n",
       "</table>\n",
       "</div>"
      ],
      "text/plain": [
       "      document                                          full_text  \\\n",
       "4166     16688  Challenge\\n\\nI work in the business intelligen...   \n",
       "4223     16848  Reflection - Mind Mapping\\n\\nChallenge\\n\\nI'm ...   \n",
       "4288     17006  Example Reflection – Mind Mapping\\n\\nChallenge...   \n",
       "4986     18685  Assignment, Design thinking for innovation\\n\\n...   \n",
       "103       3202  Final Assignment\\n\\nUniversity of Virginia's D...   \n",
       "\n",
       "                                                 tokens  \\\n",
       "4166  [Challenge, \\n\\n, I, work, in, the, business, ...   \n",
       "4223  [Reflection, -, Mind, Mapping, \\n\\n, Challenge...   \n",
       "4288  [Example, Reflection, –, Mind, Mapping, \\n\\n, ...   \n",
       "4986  [Assignment, ,, Design, thinking, for, innovat...   \n",
       "103   [Final, Assignment, \\n\\n, University, of, Virg...   \n",
       "\n",
       "                                    trailing_whitespace  \\\n",
       "4166  [False, False, True, True, True, True, True, T...   \n",
       "4223  [True, True, True, False, False, False, False,...   \n",
       "4288  [True, True, True, True, False, False, True, T...   \n",
       "4986  [False, True, True, True, True, False, False, ...   \n",
       "103   [True, False, False, True, True, False, True, ...   \n",
       "\n",
       "                                                 labels  \n",
       "4166  [O, O, O, O, O, O, O, O, O, O, O, O, O, O, O, ...  \n",
       "4223  [O, O, O, O, O, O, O, O, O, O, O, O, O, O, O, ...  \n",
       "4288  [O, O, O, O, O, O, O, O, O, O, O, O, O, O, O, ...  \n",
       "4986  [O, O, O, O, O, O, O, O, O, O, O, O, O, O, O, ...  \n",
       "103   [O, O, O, O, O, O, O, O, O, O, O, O, O, O, O, ...  "
      ]
     },
     "execution_count": 28,
     "metadata": {},
     "output_type": "execute_result"
    }
   ],
   "source": [
    "mini_dataset2.tail()"
   ]
  },
  {
   "cell_type": "code",
   "execution_count": 29,
   "id": "d3268447",
   "metadata": {
    "execution": {
     "iopub.execute_input": "2024-02-26T17:18:31.126446Z",
     "iopub.status.busy": "2024-02-26T17:18:31.126043Z",
     "iopub.status.idle": "2024-02-26T17:18:31.139597Z",
     "shell.execute_reply": "2024-02-26T17:18:31.137946Z"
    },
    "papermill": {
     "duration": 0.035131,
     "end_time": "2024-02-26T17:18:31.141681",
     "exception": false,
     "start_time": "2024-02-26T17:18:31.106550",
     "status": "completed"
    },
    "tags": []
   },
   "outputs": [
    {
     "name": "stdout",
     "output_type": "stream",
     "text": [
      "<class 'pandas.core.frame.DataFrame'>\n",
      "Index: 3404 entries, 2589 to 103\n",
      "Data columns (total 5 columns):\n",
      " #   Column               Non-Null Count  Dtype \n",
      "---  ------               --------------  ----- \n",
      " 0   document             3404 non-null   int64 \n",
      " 1   full_text            3404 non-null   object\n",
      " 2   tokens               3404 non-null   object\n",
      " 3   trailing_whitespace  3404 non-null   object\n",
      " 4   labels               3404 non-null   object\n",
      "dtypes: int64(1), object(4)\n",
      "memory usage: 288.6+ KB\n"
     ]
    }
   ],
   "source": [
    "mini_dataset2.info()"
   ]
  },
  {
   "cell_type": "code",
   "execution_count": 30,
   "id": "cf5ce1a1",
   "metadata": {
    "execution": {
     "iopub.execute_input": "2024-02-26T17:18:31.180576Z",
     "iopub.status.busy": "2024-02-26T17:18:31.180154Z",
     "iopub.status.idle": "2024-02-26T17:18:31.446023Z",
     "shell.execute_reply": "2024-02-26T17:18:31.444923Z"
    },
    "papermill": {
     "duration": 0.287832,
     "end_time": "2024-02-26T17:18:31.448554",
     "exception": false,
     "start_time": "2024-02-26T17:18:31.160722",
     "status": "completed"
    },
    "tags": []
   },
   "outputs": [
    {
     "name": "stdout",
     "output_type": "stream",
     "text": [
      "Number of Each Label:\n",
      "labels\n",
      "O                   3298416\n",
      "B-NAME_STUDENT          911\n",
      "I-NAME_STUDENT          749\n",
      "B-URL_PERSONAL           85\n",
      "B-EMAIL                  31\n",
      "B-ID_NUM                 27\n",
      "I-STREET_ADDRESS         20\n",
      "I-PHONE_NUM              12\n",
      "B-PHONE_NUM               5\n",
      "B-USERNAME                3\n",
      "B-STREET_ADDRESS          2\n",
      "I-ID_NUM                  1\n",
      "I-URL_PERSONAL            1\n",
      "Name: count, dtype: int64\n"
     ]
    }
   ],
   "source": [
    "etiket_sayilari = mini_dataset2['labels'].explode().value_counts()\n",
    "\n",
    "# Sonuçları yazdırın\n",
    "print(\"Number of Each Label:\")\n",
    "print(etiket_sayilari)\n"
   ]
  },
  {
   "cell_type": "code",
   "execution_count": 31,
   "id": "c8d99cc4",
   "metadata": {
    "execution": {
     "iopub.execute_input": "2024-02-26T17:18:31.486348Z",
     "iopub.status.busy": "2024-02-26T17:18:31.485967Z",
     "iopub.status.idle": "2024-02-26T17:18:32.264085Z",
     "shell.execute_reply": "2024-02-26T17:18:32.262987Z"
    },
    "papermill": {
     "duration": 0.799524,
     "end_time": "2024-02-26T17:18:32.266294",
     "exception": false,
     "start_time": "2024-02-26T17:18:31.466770",
     "status": "completed"
    },
    "tags": []
   },
   "outputs": [
    {
     "name": "stdout",
     "output_type": "stream",
     "text": [
      "O: 3404 satır\n",
      "B-NAME_STUDENT: 567 satır\n",
      "I-NAME_STUDENT: 532 satır\n",
      "B-URL_PERSONAL: 52 satır\n",
      "B-EMAIL: 17 satır\n",
      "B-ID_NUM: 9 satır\n",
      "I-STREET_ADDRESS: 2 satır\n",
      "I-PHONE_NUM: 2 satır\n",
      "B-PHONE_NUM: 3 satır\n",
      "B-USERNAME: 2 satır\n",
      "B-STREET_ADDRESS: 2 satır\n",
      "I-ID_NUM: 1 satır\n",
      "I-URL_PERSONAL: 1 satır\n"
     ]
    }
   ],
   "source": [
    "# Mini veri setinde her bir etiketin bulunduğu belge sayısını hesaplayın\n",
    "mini_etiket_belge_sayisi = mini_dataset2['labels'].explode().value_counts()\n",
    "\n",
    "# Her bir etiket için en az bir tane bulunan satır sayısını hesaplayın\n",
    "for etiket in mini_etiket_belge_sayisi.index:\n",
    "    satir_sayisi = mini_dataset2['labels'].apply(lambda x: etiket in x).sum()\n",
    "    print(f\"{etiket}: {satir_sayisi} satır\")\n"
   ]
  },
  {
   "cell_type": "code",
   "execution_count": 32,
   "id": "96fec156",
   "metadata": {
    "execution": {
     "iopub.execute_input": "2024-02-26T17:18:32.304935Z",
     "iopub.status.busy": "2024-02-26T17:18:32.304578Z",
     "iopub.status.idle": "2024-02-26T17:18:35.161658Z",
     "shell.execute_reply": "2024-02-26T17:18:35.160495Z"
    },
    "papermill": {
     "duration": 2.879566,
     "end_time": "2024-02-26T17:18:35.164098",
     "exception": false,
     "start_time": "2024-02-26T17:18:32.284532",
     "status": "completed"
    },
    "tags": []
   },
   "outputs": [
    {
     "name": "stderr",
     "output_type": "stream",
     "text": [
      "/tmp/ipykernel_18/722790160.py:27: FutureWarning: Series.__getitem__ treating keys as positions is deprecated. In a future version, integer keys will always be treated as labels (consistent with DataFrame behavior). To access a value by position, use `ser.iloc[pos]`\n",
      "  plt.text(i, org_label_distribution[i] + 0.5, f\"{org_label_distribution[i]:.2f}%\", ha='center', va='bottom')\n",
      "/tmp/ipykernel_18/722790160.py:37: FutureWarning: Series.__getitem__ treating keys as positions is deprecated. In a future version, integer keys will always be treated as labels (consistent with DataFrame behavior). To access a value by position, use `ser.iloc[pos]`\n",
      "  plt.text(i, mini_label_distribution[i] + 0.5, f\"{mini_label_distribution[i]:.2f}%\", ha='center', va='bottom')\n"
     ]
    },
    {
     "data": {
      "image/png": "[encoded data removed]",
      "text/plain": [
       "<Figure size 1500x600 with 2 Axes>"
      ]
     },
     "metadata": {},
     "output_type": "display_data"
    }
   ],
   "source": [
    "import pandas as pd\n",
    "import matplotlib.pyplot as plt\n",
    "\n",
    "# org_train veri setini yükleyin (dosya yolu doğru belirtilmelidir)\n",
    "org_train = json.load(open('/kaggle/input/pii-detection-removal-from-educational-data/train.json'))\n",
    "\n",
    "# org_train veri setini DataFrame'e dönüştürün\n",
    "org_train_df = pd.DataFrame(org_train)\n",
    "\n",
    "# Mini dataset için O etiketi hariç diğer etiketlerin dağılımını hesaplayın\n",
    "mini_labels = mini_dataset2['labels'].explode()\n",
    "mini_labels = mini_labels[mini_labels != 'O']\n",
    "mini_label_distribution = mini_labels.value_counts(normalize=True) * 100\n",
    "\n",
    "# org_train veri seti için O etiketi hariç diğer etiketlerin dağılımını hesaplayın\n",
    "org_labels = org_train_df['labels'].explode()\n",
    "org_labels = org_labels[org_labels != 'O']\n",
    "org_label_distribution = org_labels.value_counts(normalize=True) * 100\n",
    "\n",
    "# Grafikleri oluşturun\n",
    "plt.figure(figsize=(15, 6))\n",
    "\n",
    "# Sütun grafik oluşturun\n",
    "plt.subplot(1, 2, 1)\n",
    "org_label_distribution.plot(kind='bar', color='blue', alpha=0.5, label='Org Train Dataset')\n",
    "for i in range(len(org_label_distribution)):\n",
    "    plt.text(i, org_label_distribution[i] + 0.5, f\"{org_label_distribution[i]:.2f}%\", ha='center', va='bottom')\n",
    "plt.title('Org Train Dataset Tag Distribution')\n",
    "plt.xlabel('Labels')\n",
    "plt.ylabel('Percentage')\n",
    "plt.legend()\n",
    "\n",
    "# Sütun grafik oluşturun\n",
    "plt.subplot(1, 2, 2)\n",
    "mini_label_distribution.plot(kind='bar', color='pink', alpha=0.5, label='Mini Dataset2')\n",
    "for i in range(len(mini_label_distribution)):\n",
    "    plt.text(i, mini_label_distribution[i] + 0.5, f\"{mini_label_distribution[i]:.2f}%\", ha='center', va='bottom')\n",
    "plt.title('Mini Dataset2 Label Distribution')\n",
    "plt.xlabel('Labels')\n",
    "plt.ylabel('Percentage')\n",
    "plt.legend()\n",
    "\n",
    "# Grafikleri gösterin\n",
    "plt.tight_layout()\n",
    "plt.show()\n"
   ]
  },
  {
   "cell_type": "markdown",
   "id": "5a1afc77",
   "metadata": {
    "papermill": {
     "duration": 0.019795,
     "end_time": "2024-02-26T17:18:35.203773",
     "exception": false,
     "start_time": "2024-02-26T17:18:35.183978",
     "status": "completed"
    },
    "tags": []
   },
   "source": [
    "# Creating Mini Data Set 3 (approx.70%)"
   ]
  },
  {
   "cell_type": "code",
   "execution_count": 33,
   "id": "1a50e7c6",
   "metadata": {
    "execution": {
     "iopub.execute_input": "2024-02-26T17:18:35.244463Z",
     "iopub.status.busy": "2024-02-26T17:18:35.244063Z",
     "iopub.status.idle": "2024-02-26T17:18:38.929738Z",
     "shell.execute_reply": "2024-02-26T17:18:38.928721Z"
    },
    "papermill": {
     "duration": 3.708451,
     "end_time": "2024-02-26T17:18:38.932010",
     "exception": false,
     "start_time": "2024-02-26T17:18:35.223559",
     "status": "completed"
    },
    "tags": []
   },
   "outputs": [
    {
     "name": "stdout",
     "output_type": "stream",
     "text": [
      "Oluşturulan Mini Veri Setinin Boyutu: (4765, 5)\n"
     ]
    },
    {
     "data": {
      "text/html": [
       "<div>\n",
       "<style scoped>\n",
       "    .dataframe tbody tr th:only-of-type {\n",
       "        vertical-align: middle;\n",
       "    }\n",
       "\n",
       "    .dataframe tbody tr th {\n",
       "        vertical-align: top;\n",
       "    }\n",
       "\n",
       "    .dataframe thead th {\n",
       "        text-align: right;\n",
       "    }\n",
       "</style>\n",
       "<table border=\"1\" class=\"dataframe\">\n",
       "  <thead>\n",
       "    <tr style=\"text-align: right;\">\n",
       "      <th></th>\n",
       "      <th>document</th>\n",
       "      <th>full_text</th>\n",
       "      <th>tokens</th>\n",
       "      <th>trailing_whitespace</th>\n",
       "      <th>labels</th>\n",
       "    </tr>\n",
       "  </thead>\n",
       "  <tbody>\n",
       "    <tr>\n",
       "      <th>2589</th>\n",
       "      <td>12888</td>\n",
       "      <td>Re-Engaging  Students:  A  Learning  Launch  E...</td>\n",
       "      <td>[Re, -, Engaging,  , Students, :,  , A,  , Lea...</td>\n",
       "      <td>[False, False, True, False, False, True, False...</td>\n",
       "      <td>[O, O, O, O, O, O, O, O, O, O, O, O, O, O, O, ...</td>\n",
       "    </tr>\n",
       "    <tr>\n",
       "      <th>3175</th>\n",
       "      <td>14267</td>\n",
       "      <td>MIAMISBURG, Ohio, Dec. 10, 2019 /PRNewswire/ -...</td>\n",
       "      <td>[MIAMISBURG, ,, Ohio, ,, Dec., 10, ,, 2019, /P...</td>\n",
       "      <td>[False, True, False, True, True, False, True, ...</td>\n",
       "      <td>[O, O, O, O, O, O, O, O, O, O, O, O, O, O, O, ...</td>\n",
       "    </tr>\n",
       "    <tr>\n",
       "      <th>6365</th>\n",
       "      <td>21720</td>\n",
       "      <td>In this assignment, a reflective report will b...</td>\n",
       "      <td>[In, this, assignment, ,, a, reflective, repor...</td>\n",
       "      <td>[True, True, False, True, True, True, True, Tr...</td>\n",
       "      <td>[O, O, O, O, O, O, O, O, O, O, O, O, O, O, O, ...</td>\n",
       "    </tr>\n",
       "    <tr>\n",
       "      <th>1207</th>\n",
       "      <td>10078</td>\n",
       "      <td>Overcoming Barriers - The Story of the Movie a...</td>\n",
       "      <td>[Overcoming, Barriers, -, The, Story, of, the,...</td>\n",
       "      <td>[True, True, True, True, True, True, True, Tru...</td>\n",
       "      <td>[O, O, O, O, O, O, O, O, O, O, O, O, O, O, O, ...</td>\n",
       "    </tr>\n",
       "    <tr>\n",
       "      <th>781</th>\n",
       "      <td>9188</td>\n",
       "      <td>Design Thinking in Career Development and Coun...</td>\n",
       "      <td>[Design, Thinking, in, Career, Development, an...</td>\n",
       "      <td>[True, True, True, True, True, True, True, Fal...</td>\n",
       "      <td>[O, O, O, O, O, O, O, O, B-NAME_STUDENT, I-NAM...</td>\n",
       "    </tr>\n",
       "  </tbody>\n",
       "</table>\n",
       "</div>"
      ],
      "text/plain": [
       "      document                                          full_text  \\\n",
       "2589     12888  Re-Engaging  Students:  A  Learning  Launch  E...   \n",
       "3175     14267  MIAMISBURG, Ohio, Dec. 10, 2019 /PRNewswire/ -...   \n",
       "6365     21720  In this assignment, a reflective report will b...   \n",
       "1207     10078  Overcoming Barriers - The Story of the Movie a...   \n",
       "781       9188  Design Thinking in Career Development and Coun...   \n",
       "\n",
       "                                                 tokens  \\\n",
       "2589  [Re, -, Engaging,  , Students, :,  , A,  , Lea...   \n",
       "3175  [MIAMISBURG, ,, Ohio, ,, Dec., 10, ,, 2019, /P...   \n",
       "6365  [In, this, assignment, ,, a, reflective, repor...   \n",
       "1207  [Overcoming, Barriers, -, The, Story, of, the,...   \n",
       "781   [Design, Thinking, in, Career, Development, an...   \n",
       "\n",
       "                                    trailing_whitespace  \\\n",
       "2589  [False, False, True, False, False, True, False...   \n",
       "3175  [False, True, False, True, True, False, True, ...   \n",
       "6365  [True, True, False, True, True, True, True, Tr...   \n",
       "1207  [True, True, True, True, True, True, True, Tru...   \n",
       "781   [True, True, True, True, True, True, True, Fal...   \n",
       "\n",
       "                                                 labels  \n",
       "2589  [O, O, O, O, O, O, O, O, O, O, O, O, O, O, O, ...  \n",
       "3175  [O, O, O, O, O, O, O, O, O, O, O, O, O, O, O, ...  \n",
       "6365  [O, O, O, O, O, O, O, O, O, O, O, O, O, O, O, ...  \n",
       "1207  [O, O, O, O, O, O, O, O, O, O, O, O, O, O, O, ...  \n",
       "781   [O, O, O, O, O, O, O, O, B-NAME_STUDENT, I-NAM...  "
      ]
     },
     "execution_count": 33,
     "metadata": {},
     "output_type": "execute_result"
    }
   ],
   "source": [
    "org_train = json.load(open('/kaggle/input/pii-detection-removal-from-educational-data/train.json'))\n",
    "\n",
    "org_train_df = pd.DataFrame(org_train)\n",
    "\n",
    "org_train_df['label_count'] = org_train_df['labels'].apply(lambda x: len(x))\n",
    "\n",
    "mini_dataset3 = org_train_df.nlargest(4764, 'label_count')\n",
    "\n",
    "missing_labels = set(['O', 'B-NAME_STUDENT', 'I-NAME_STUDENT', 'B-URL_PERSONAL', 'B-ID_NUM', 'B-EMAIL', 'I-STREET_ADDRESS', 'I-PHONE_NUM', 'B-USERNAME', 'B-PHONE_NUM', 'B-STREET_ADDRESS', 'I-URL_PERSONAL', 'I-ID_NUM']) - set(mini_dataset3['labels'].explode().unique())\n",
    "\n",
    "for label in missing_labels:\n",
    "    if label in org_train_df['labels'].explode().unique():\n",
    "        document = org_train_df[org_train_df['labels'].apply(lambda x: label in x)].sample(n=1)\n",
    "        mini_dataset3 = pd.concat([mini_dataset3, document])\n",
    "\n",
    "mini_dataset3 = mini_dataset3.drop(columns=['label_count'])\n",
    "mini_dataset3.to_json('train_70p.json', orient='records')\n",
    "\n",
    "# Sonuçları gösterin\n",
    "print(\"Oluşturulan Mini Veri Setinin Boyutu:\", mini_dataset3.shape)\n",
    "mini_dataset3.head()\n"
   ]
  },
  {
   "cell_type": "code",
   "execution_count": 34,
   "id": "2e81d2ad",
   "metadata": {
    "execution": {
     "iopub.execute_input": "2024-02-26T17:18:38.972968Z",
     "iopub.status.busy": "2024-02-26T17:18:38.972583Z",
     "iopub.status.idle": "2024-02-26T17:18:38.997332Z",
     "shell.execute_reply": "2024-02-26T17:18:38.996326Z"
    },
    "papermill": {
     "duration": 0.048268,
     "end_time": "2024-02-26T17:18:38.999954",
     "exception": false,
     "start_time": "2024-02-26T17:18:38.951686",
     "status": "completed"
    },
    "tags": []
   },
   "outputs": [
    {
     "data": {
      "text/html": [
       "<div>\n",
       "<style scoped>\n",
       "    .dataframe tbody tr th:only-of-type {\n",
       "        vertical-align: middle;\n",
       "    }\n",
       "\n",
       "    .dataframe tbody tr th {\n",
       "        vertical-align: top;\n",
       "    }\n",
       "\n",
       "    .dataframe thead th {\n",
       "        text-align: right;\n",
       "    }\n",
       "</style>\n",
       "<table border=\"1\" class=\"dataframe\">\n",
       "  <thead>\n",
       "    <tr style=\"text-align: right;\">\n",
       "      <th></th>\n",
       "      <th>document</th>\n",
       "      <th>full_text</th>\n",
       "      <th>tokens</th>\n",
       "      <th>trailing_whitespace</th>\n",
       "      <th>labels</th>\n",
       "    </tr>\n",
       "  </thead>\n",
       "  <tbody>\n",
       "    <tr>\n",
       "      <th>2986</th>\n",
       "      <td>13801</td>\n",
       "      <td>Example Reflection – Storytelling\\n\\nChallenge...</td>\n",
       "      <td>[Example, Reflection, –, Storytelling, \\n\\n, C...</td>\n",
       "      <td>[True, True, True, False, False, True, False, ...</td>\n",
       "      <td>[O, O, O, O, O, O, O, O, O, O, O, O, O, O, O, ...</td>\n",
       "    </tr>\n",
       "    <tr>\n",
       "      <th>3485</th>\n",
       "      <td>15000</td>\n",
       "      <td>Use of disposable cups in the office and visua...</td>\n",
       "      <td>[Use, of, disposable, cups, in, the, office, a...</td>\n",
       "      <td>[True, True, True, True, True, True, True, Tru...</td>\n",
       "      <td>[O, O, O, O, O, O, O, O, O, O, O, O, O, O, O, ...</td>\n",
       "    </tr>\n",
       "    <tr>\n",
       "      <th>4599</th>\n",
       "      <td>17748</td>\n",
       "      <td>Assignment\\n\\nDesign Thinking Tool – Visualiza...</td>\n",
       "      <td>[Assignment, \\n\\n, Design, Thinking, Tool, –, ...</td>\n",
       "      <td>[False, False, True, True, True, True, False, ...</td>\n",
       "      <td>[O, O, O, O, O, O, O, O, O, O, O, O, O, O, O, ...</td>\n",
       "    </tr>\n",
       "    <tr>\n",
       "      <th>4627</th>\n",
       "      <td>17817</td>\n",
       "      <td>STORYTELLING\\n\\nChallenge\\n\\nIn todays’ corpor...</td>\n",
       "      <td>[STORYTELLING, \\n\\n, Challenge, \\n\\n, In, toda...</td>\n",
       "      <td>[False, False, False, False, True, False, True...</td>\n",
       "      <td>[O, O, O, O, O, O, O, O, O, O, O, O, O, O, O, ...</td>\n",
       "    </tr>\n",
       "    <tr>\n",
       "      <th>103</th>\n",
       "      <td>3202</td>\n",
       "      <td>Final Assignment\\n\\nUniversity of Virginia's D...</td>\n",
       "      <td>[Final, Assignment, \\n\\n, University, of, Virg...</td>\n",
       "      <td>[True, False, False, True, True, False, True, ...</td>\n",
       "      <td>[O, O, O, O, O, O, O, O, O, O, O, O, O, O, O, ...</td>\n",
       "    </tr>\n",
       "  </tbody>\n",
       "</table>\n",
       "</div>"
      ],
      "text/plain": [
       "      document                                          full_text  \\\n",
       "2986     13801  Example Reflection – Storytelling\\n\\nChallenge...   \n",
       "3485     15000  Use of disposable cups in the office and visua...   \n",
       "4599     17748  Assignment\\n\\nDesign Thinking Tool – Visualiza...   \n",
       "4627     17817  STORYTELLING\\n\\nChallenge\\n\\nIn todays’ corpor...   \n",
       "103       3202  Final Assignment\\n\\nUniversity of Virginia's D...   \n",
       "\n",
       "                                                 tokens  \\\n",
       "2986  [Example, Reflection, –, Storytelling, \\n\\n, C...   \n",
       "3485  [Use, of, disposable, cups, in, the, office, a...   \n",
       "4599  [Assignment, \\n\\n, Design, Thinking, Tool, –, ...   \n",
       "4627  [STORYTELLING, \\n\\n, Challenge, \\n\\n, In, toda...   \n",
       "103   [Final, Assignment, \\n\\n, University, of, Virg...   \n",
       "\n",
       "                                    trailing_whitespace  \\\n",
       "2986  [True, True, True, False, False, True, False, ...   \n",
       "3485  [True, True, True, True, True, True, True, Tru...   \n",
       "4599  [False, False, True, True, True, True, False, ...   \n",
       "4627  [False, False, False, False, True, False, True...   \n",
       "103   [True, False, False, True, True, False, True, ...   \n",
       "\n",
       "                                                 labels  \n",
       "2986  [O, O, O, O, O, O, O, O, O, O, O, O, O, O, O, ...  \n",
       "3485  [O, O, O, O, O, O, O, O, O, O, O, O, O, O, O, ...  \n",
       "4599  [O, O, O, O, O, O, O, O, O, O, O, O, O, O, O, ...  \n",
       "4627  [O, O, O, O, O, O, O, O, O, O, O, O, O, O, O, ...  \n",
       "103   [O, O, O, O, O, O, O, O, O, O, O, O, O, O, O, ...  "
      ]
     },
     "execution_count": 34,
     "metadata": {},
     "output_type": "execute_result"
    }
   ],
   "source": [
    "mini_dataset3.tail()"
   ]
  },
  {
   "cell_type": "code",
   "execution_count": 35,
   "id": "acce8421",
   "metadata": {
    "execution": {
     "iopub.execute_input": "2024-02-26T17:18:39.043048Z",
     "iopub.status.busy": "2024-02-26T17:18:39.042292Z",
     "iopub.status.idle": "2024-02-26T17:18:39.056929Z",
     "shell.execute_reply": "2024-02-26T17:18:39.055396Z"
    },
    "papermill": {
     "duration": 0.03871,
     "end_time": "2024-02-26T17:18:39.059253",
     "exception": false,
     "start_time": "2024-02-26T17:18:39.020543",
     "status": "completed"
    },
    "tags": []
   },
   "outputs": [
    {
     "name": "stdout",
     "output_type": "stream",
     "text": [
      "<class 'pandas.core.frame.DataFrame'>\n",
      "Index: 4765 entries, 2589 to 103\n",
      "Data columns (total 5 columns):\n",
      " #   Column               Non-Null Count  Dtype \n",
      "---  ------               --------------  ----- \n",
      " 0   document             4765 non-null   int64 \n",
      " 1   full_text            4765 non-null   object\n",
      " 2   tokens               4765 non-null   object\n",
      " 3   trailing_whitespace  4765 non-null   object\n",
      " 4   labels               4765 non-null   object\n",
      "dtypes: int64(1), object(4)\n",
      "memory usage: 352.4+ KB\n"
     ]
    }
   ],
   "source": [
    "mini_dataset3.info()"
   ]
  },
  {
   "cell_type": "code",
   "execution_count": 36,
   "id": "1b6d68d0",
   "metadata": {
    "execution": {
     "iopub.execute_input": "2024-02-26T17:18:39.102112Z",
     "iopub.status.busy": "2024-02-26T17:18:39.101714Z",
     "iopub.status.idle": "2024-02-26T17:18:39.435957Z",
     "shell.execute_reply": "2024-02-26T17:18:39.434813Z"
    },
    "papermill": {
     "duration": 0.358509,
     "end_time": "2024-02-26T17:18:39.438251",
     "exception": false,
     "start_time": "2024-02-26T17:18:39.079742",
     "status": "completed"
    },
    "tags": []
   },
   "outputs": [
    {
     "name": "stdout",
     "output_type": "stream",
     "text": [
      "Number of Each Label:\n",
      "labels\n",
      "O                   4147468\n",
      "B-NAME_STUDENT         1107\n",
      "I-NAME_STUDENT          896\n",
      "B-URL_PERSONAL           93\n",
      "B-ID_NUM                 42\n",
      "B-EMAIL                  33\n",
      "I-STREET_ADDRESS         20\n",
      "I-PHONE_NUM              12\n",
      "B-PHONE_NUM               5\n",
      "B-USERNAME                5\n",
      "B-STREET_ADDRESS          2\n",
      "I-ID_NUM                  1\n",
      "I-URL_PERSONAL            1\n",
      "Name: count, dtype: int64\n"
     ]
    }
   ],
   "source": [
    "etiket_sayilari = mini_dataset3['labels'].explode().value_counts()\n",
    "\n",
    "# Sonuçları yazdırın\n",
    "print(\"Number of Each Label:\")\n",
    "print(etiket_sayilari)\n"
   ]
  },
  {
   "cell_type": "code",
   "execution_count": 37,
   "id": "546702e6",
   "metadata": {
    "execution": {
     "iopub.execute_input": "2024-02-26T17:18:39.481017Z",
     "iopub.status.busy": "2024-02-26T17:18:39.480015Z",
     "iopub.status.idle": "2024-02-26T17:18:40.458262Z",
     "shell.execute_reply": "2024-02-26T17:18:40.456778Z"
    },
    "papermill": {
     "duration": 1.002567,
     "end_time": "2024-02-26T17:18:40.460876",
     "exception": false,
     "start_time": "2024-02-26T17:18:39.458309",
     "status": "completed"
    },
    "tags": []
   },
   "outputs": [
    {
     "name": "stdout",
     "output_type": "stream",
     "text": [
      "O: 4765 satır\n",
      "B-NAME_STUDENT: 702 satır\n",
      "I-NAME_STUDENT: 651 satır\n",
      "B-URL_PERSONAL: 59 satır\n",
      "B-ID_NUM: 16 satır\n",
      "B-EMAIL: 19 satır\n",
      "I-STREET_ADDRESS: 2 satır\n",
      "I-PHONE_NUM: 2 satır\n",
      "B-PHONE_NUM: 3 satır\n",
      "B-USERNAME: 4 satır\n",
      "B-STREET_ADDRESS: 2 satır\n",
      "I-ID_NUM: 1 satır\n",
      "I-URL_PERSONAL: 1 satır\n"
     ]
    }
   ],
   "source": [
    "# Mini veri setinde her bir etiketin bulunduğu belge sayısını hesaplayın\n",
    "mini_etiket_belge_sayisi = mini_dataset3['labels'].explode().value_counts()\n",
    "\n",
    "# Her bir etiket için en az bir tane bulunan satır sayısını hesaplayın\n",
    "for etiket in mini_etiket_belge_sayisi.index:\n",
    "    satir_sayisi = mini_dataset3['labels'].apply(lambda x: etiket in x).sum()\n",
    "    print(f\"{etiket}: {satir_sayisi} satır\")\n"
   ]
  },
  {
   "cell_type": "code",
   "execution_count": 38,
   "id": "a7fb51e2",
   "metadata": {
    "execution": {
     "iopub.execute_input": "2024-02-26T17:18:40.504635Z",
     "iopub.status.busy": "2024-02-26T17:18:40.504220Z",
     "iopub.status.idle": "2024-02-26T17:18:43.920810Z",
     "shell.execute_reply": "2024-02-26T17:18:43.919627Z"
    },
    "papermill": {
     "duration": 3.441485,
     "end_time": "2024-02-26T17:18:43.923689",
     "exception": false,
     "start_time": "2024-02-26T17:18:40.482204",
     "status": "completed"
    },
    "tags": []
   },
   "outputs": [
    {
     "name": "stderr",
     "output_type": "stream",
     "text": [
      "/tmp/ipykernel_18/3855826255.py:27: FutureWarning: Series.__getitem__ treating keys as positions is deprecated. In a future version, integer keys will always be treated as labels (consistent with DataFrame behavior). To access a value by position, use `ser.iloc[pos]`\n",
      "  plt.text(i, org_label_distribution[i] + 0.5, f\"{org_label_distribution[i]:.2f}%\", ha='center', va='bottom')\n",
      "/tmp/ipykernel_18/3855826255.py:37: FutureWarning: Series.__getitem__ treating keys as positions is deprecated. In a future version, integer keys will always be treated as labels (consistent with DataFrame behavior). To access a value by position, use `ser.iloc[pos]`\n",
      "  plt.text(i, mini_label_distribution[i] + 0.5, f\"{mini_label_distribution[i]:.2f}%\", ha='center', va='bottom')\n"
     ]
    },
    {
     "data": {
      "image/png": "[encoded data removed]",
      "text/plain": [
       "<Figure size 1500x600 with 2 Axes>"
      ]
     },
     "metadata": {},
     "output_type": "display_data"
    }
   ],
   "source": [
    "import pandas as pd\n",
    "import matplotlib.pyplot as plt\n",
    "\n",
    "# org_train veri setini yükleyin (dosya yolu doğru belirtilmelidir)\n",
    "org_train = json.load(open('/kaggle/input/pii-detection-removal-from-educational-data/train.json'))\n",
    "\n",
    "# org_train veri setini DataFrame'e dönüştürün\n",
    "org_train_df = pd.DataFrame(org_train)\n",
    "\n",
    "# Mini dataset için O etiketi hariç diğer etiketlerin dağılımını hesaplayın\n",
    "mini_labels = mini_dataset3['labels'].explode()\n",
    "mini_labels = mini_labels[mini_labels != 'O']\n",
    "mini_label_distribution = mini_labels.value_counts(normalize=True) * 100\n",
    "\n",
    "# org_train veri seti için O etiketi hariç diğer etiketlerin dağılımını hesaplayın\n",
    "org_labels = org_train_df['labels'].explode()\n",
    "org_labels = org_labels[org_labels != 'O']\n",
    "org_label_distribution = org_labels.value_counts(normalize=True) * 100\n",
    "\n",
    "# Grafikleri oluşturun\n",
    "plt.figure(figsize=(15, 6))\n",
    "\n",
    "# Sütun grafik oluşturun\n",
    "plt.subplot(1, 2, 1)\n",
    "org_label_distribution.plot(kind='bar', color='blue', alpha=0.5, label='Org Train Dataset')\n",
    "for i in range(len(org_label_distribution)):\n",
    "    plt.text(i, org_label_distribution[i] + 0.5, f\"{org_label_distribution[i]:.2f}%\", ha='center', va='bottom')\n",
    "plt.title('Org Train Dataset Tag Distribution')\n",
    "plt.xlabel('Labels')\n",
    "plt.ylabel('Percentage')\n",
    "plt.legend()\n",
    "\n",
    "# Sütun grafik oluşturun\n",
    "plt.subplot(1, 2, 2)\n",
    "mini_label_distribution.plot(kind='bar', color='pink', alpha=0.5, label='Mini Dataset3')\n",
    "for i in range(len(mini_label_distribution)):\n",
    "    plt.text(i, mini_label_distribution[i] + 0.5, f\"{mini_label_distribution[i]:.2f}%\", ha='center', va='bottom')\n",
    "plt.title('Mini Dataset3 Label Distribution')\n",
    "plt.xlabel('Labels')\n",
    "plt.ylabel('Percentage')\n",
    "plt.legend()\n",
    "\n",
    "# Grafikleri gösterin\n",
    "plt.tight_layout()\n",
    "plt.show()\n"
   ]
  },
  {
   "cell_type": "markdown",
   "id": "8af901a9",
   "metadata": {
    "papermill": {
     "duration": 0.021315,
     "end_time": "2024-02-26T17:18:43.967342",
     "exception": false,
     "start_time": "2024-02-26T17:18:43.946027",
     "status": "completed"
    },
    "tags": []
   },
   "source": [
    "# Creating Mini Data Set (approx.40%)"
   ]
  },
  {
   "cell_type": "code",
   "execution_count": 39,
   "id": "b568bf09",
   "metadata": {
    "execution": {
     "iopub.execute_input": "2024-02-26T17:18:44.012934Z",
     "iopub.status.busy": "2024-02-26T17:18:44.012380Z",
     "iopub.status.idle": "2024-02-26T17:18:47.238055Z",
     "shell.execute_reply": "2024-02-26T17:18:47.236895Z"
    },
    "papermill": {
     "duration": 3.251986,
     "end_time": "2024-02-26T17:18:47.240568",
     "exception": false,
     "start_time": "2024-02-26T17:18:43.988582",
     "status": "completed"
    },
    "tags": []
   },
   "outputs": [
    {
     "name": "stdout",
     "output_type": "stream",
     "text": [
      "Oluşturulan Mini Veri Setinin Boyutu: (2724, 5)\n"
     ]
    },
    {
     "data": {
      "text/html": [
       "<div>\n",
       "<style scoped>\n",
       "    .dataframe tbody tr th:only-of-type {\n",
       "        vertical-align: middle;\n",
       "    }\n",
       "\n",
       "    .dataframe tbody tr th {\n",
       "        vertical-align: top;\n",
       "    }\n",
       "\n",
       "    .dataframe thead th {\n",
       "        text-align: right;\n",
       "    }\n",
       "</style>\n",
       "<table border=\"1\" class=\"dataframe\">\n",
       "  <thead>\n",
       "    <tr style=\"text-align: right;\">\n",
       "      <th></th>\n",
       "      <th>document</th>\n",
       "      <th>full_text</th>\n",
       "      <th>tokens</th>\n",
       "      <th>trailing_whitespace</th>\n",
       "      <th>labels</th>\n",
       "    </tr>\n",
       "  </thead>\n",
       "  <tbody>\n",
       "    <tr>\n",
       "      <th>2589</th>\n",
       "      <td>12888</td>\n",
       "      <td>Re-Engaging  Students:  A  Learning  Launch  E...</td>\n",
       "      <td>[Re, -, Engaging,  , Students, :,  , A,  , Lea...</td>\n",
       "      <td>[False, False, True, False, False, True, False...</td>\n",
       "      <td>[O, O, O, O, O, O, O, O, O, O, O, O, O, O, O, ...</td>\n",
       "    </tr>\n",
       "    <tr>\n",
       "      <th>3175</th>\n",
       "      <td>14267</td>\n",
       "      <td>MIAMISBURG, Ohio, Dec. 10, 2019 /PRNewswire/ -...</td>\n",
       "      <td>[MIAMISBURG, ,, Ohio, ,, Dec., 10, ,, 2019, /P...</td>\n",
       "      <td>[False, True, False, True, True, False, True, ...</td>\n",
       "      <td>[O, O, O, O, O, O, O, O, O, O, O, O, O, O, O, ...</td>\n",
       "    </tr>\n",
       "    <tr>\n",
       "      <th>6365</th>\n",
       "      <td>21720</td>\n",
       "      <td>In this assignment, a reflective report will b...</td>\n",
       "      <td>[In, this, assignment, ,, a, reflective, repor...</td>\n",
       "      <td>[True, True, False, True, True, True, True, Tr...</td>\n",
       "      <td>[O, O, O, O, O, O, O, O, O, O, O, O, O, O, O, ...</td>\n",
       "    </tr>\n",
       "    <tr>\n",
       "      <th>1207</th>\n",
       "      <td>10078</td>\n",
       "      <td>Overcoming Barriers - The Story of the Movie a...</td>\n",
       "      <td>[Overcoming, Barriers, -, The, Story, of, the,...</td>\n",
       "      <td>[True, True, True, True, True, True, True, Tru...</td>\n",
       "      <td>[O, O, O, O, O, O, O, O, O, O, O, O, O, O, O, ...</td>\n",
       "    </tr>\n",
       "    <tr>\n",
       "      <th>781</th>\n",
       "      <td>9188</td>\n",
       "      <td>Design Thinking in Career Development and Coun...</td>\n",
       "      <td>[Design, Thinking, in, Career, Development, an...</td>\n",
       "      <td>[True, True, True, True, True, True, True, Fal...</td>\n",
       "      <td>[O, O, O, O, O, O, O, O, B-NAME_STUDENT, I-NAM...</td>\n",
       "    </tr>\n",
       "  </tbody>\n",
       "</table>\n",
       "</div>"
      ],
      "text/plain": [
       "      document                                          full_text  \\\n",
       "2589     12888  Re-Engaging  Students:  A  Learning  Launch  E...   \n",
       "3175     14267  MIAMISBURG, Ohio, Dec. 10, 2019 /PRNewswire/ -...   \n",
       "6365     21720  In this assignment, a reflective report will b...   \n",
       "1207     10078  Overcoming Barriers - The Story of the Movie a...   \n",
       "781       9188  Design Thinking in Career Development and Coun...   \n",
       "\n",
       "                                                 tokens  \\\n",
       "2589  [Re, -, Engaging,  , Students, :,  , A,  , Lea...   \n",
       "3175  [MIAMISBURG, ,, Ohio, ,, Dec., 10, ,, 2019, /P...   \n",
       "6365  [In, this, assignment, ,, a, reflective, repor...   \n",
       "1207  [Overcoming, Barriers, -, The, Story, of, the,...   \n",
       "781   [Design, Thinking, in, Career, Development, an...   \n",
       "\n",
       "                                    trailing_whitespace  \\\n",
       "2589  [False, False, True, False, False, True, False...   \n",
       "3175  [False, True, False, True, True, False, True, ...   \n",
       "6365  [True, True, False, True, True, True, True, Tr...   \n",
       "1207  [True, True, True, True, True, True, True, Tru...   \n",
       "781   [True, True, True, True, True, True, True, Fal...   \n",
       "\n",
       "                                                 labels  \n",
       "2589  [O, O, O, O, O, O, O, O, O, O, O, O, O, O, O, ...  \n",
       "3175  [O, O, O, O, O, O, O, O, O, O, O, O, O, O, O, ...  \n",
       "6365  [O, O, O, O, O, O, O, O, O, O, O, O, O, O, O, ...  \n",
       "1207  [O, O, O, O, O, O, O, O, O, O, O, O, O, O, O, ...  \n",
       "781   [O, O, O, O, O, O, O, O, B-NAME_STUDENT, I-NAM...  "
      ]
     },
     "execution_count": 39,
     "metadata": {},
     "output_type": "execute_result"
    }
   ],
   "source": [
    "org_train = json.load(open('/kaggle/input/pii-detection-removal-from-educational-data/train.json'))\n",
    "\n",
    "org_train_df = pd.DataFrame(org_train)\n",
    "\n",
    "org_train_df['label_count'] = org_train_df['labels'].apply(lambda x: len(x))\n",
    "\n",
    "mini_dataset4 = org_train_df.nlargest(2723, 'label_count')\n",
    "\n",
    "missing_labels = set(['O', 'B-NAME_STUDENT', 'I-NAME_STUDENT', 'B-URL_PERSONAL', 'B-ID_NUM', 'B-EMAIL', 'I-STREET_ADDRESS', 'I-PHONE_NUM', 'B-USERNAME', 'B-PHONE_NUM', 'B-STREET_ADDRESS', 'I-URL_PERSONAL', 'I-ID_NUM']) - set(mini_dataset4['labels'].explode().unique())\n",
    "\n",
    "for label in missing_labels:\n",
    "    if label in org_train_df['labels'].explode().unique():\n",
    "        document = org_train_df[org_train_df['labels'].apply(lambda x: label in x)].sample(n=1)\n",
    "        mini_dataset4 = pd.concat([mini_dataset4, document])\n",
    "\n",
    "mini_dataset4 = mini_dataset4.drop(columns=['label_count'])\n",
    "mini_dataset4.to_json('train_40p.json', orient='records')\n",
    "\n",
    "# Sonuçları gösterin\n",
    "print(\"Oluşturulan Mini Veri Setinin Boyutu:\", mini_dataset4.shape)\n",
    "mini_dataset4.head()\n"
   ]
  },
  {
   "cell_type": "code",
   "execution_count": 40,
   "id": "059bfd5e",
   "metadata": {
    "execution": {
     "iopub.execute_input": "2024-02-26T17:18:47.285982Z",
     "iopub.status.busy": "2024-02-26T17:18:47.285619Z",
     "iopub.status.idle": "2024-02-26T17:18:47.311475Z",
     "shell.execute_reply": "2024-02-26T17:18:47.310376Z"
    },
    "papermill": {
     "duration": 0.051077,
     "end_time": "2024-02-26T17:18:47.313685",
     "exception": false,
     "start_time": "2024-02-26T17:18:47.262608",
     "status": "completed"
    },
    "tags": []
   },
   "outputs": [
    {
     "data": {
      "text/html": [
       "<div>\n",
       "<style scoped>\n",
       "    .dataframe tbody tr th:only-of-type {\n",
       "        vertical-align: middle;\n",
       "    }\n",
       "\n",
       "    .dataframe tbody tr th {\n",
       "        vertical-align: top;\n",
       "    }\n",
       "\n",
       "    .dataframe thead th {\n",
       "        text-align: right;\n",
       "    }\n",
       "</style>\n",
       "<table border=\"1\" class=\"dataframe\">\n",
       "  <thead>\n",
       "    <tr style=\"text-align: right;\">\n",
       "      <th></th>\n",
       "      <th>document</th>\n",
       "      <th>full_text</th>\n",
       "      <th>tokens</th>\n",
       "      <th>trailing_whitespace</th>\n",
       "      <th>labels</th>\n",
       "    </tr>\n",
       "  </thead>\n",
       "  <tbody>\n",
       "    <tr>\n",
       "      <th>6077</th>\n",
       "      <td>21131</td>\n",
       "      <td>Reflection – Learning Launch\\n\\nChallenge and ...</td>\n",
       "      <td>[Reflection, –, Learning, Launch, \\n\\n, Challe...</td>\n",
       "      <td>[True, True, True, False, False, True, True, F...</td>\n",
       "      <td>[O, O, O, O, O, O, O, O, O, O, O, O, O, O, O, ...</td>\n",
       "    </tr>\n",
       "    <tr>\n",
       "      <th>674</th>\n",
       "      <td>8979</td>\n",
       "      <td>Reflection: Learning Launch – Onboarding guide...</td>\n",
       "      <td>[Reflection, :, Learning, Launch, –, Onboardin...</td>\n",
       "      <td>[False, True, True, True, True, True, False, F...</td>\n",
       "      <td>[O, O, O, O, O, O, O, O, O, O, O, O, O, O, O, ...</td>\n",
       "    </tr>\n",
       "    <tr>\n",
       "      <th>1024</th>\n",
       "      <td>9691</td>\n",
       "      <td>Mind Mapping\\n\\nChallenge &amp; Selection    Mind ...</td>\n",
       "      <td>[Mind, Mapping, \\n\\n, Challenge, &amp;, Selection,...</td>\n",
       "      <td>[True, False, False, True, True, True, False, ...</td>\n",
       "      <td>[O, O, O, O, O, O, O, O, O, O, O, O, O, O, O, ...</td>\n",
       "    </tr>\n",
       "    <tr>\n",
       "      <th>1045</th>\n",
       "      <td>9739</td>\n",
       "      <td>Challenge:\\n\\nTo design and develop an idea fo...</td>\n",
       "      <td>[Challenge, :, \\n\\n, To, design, and, develop,...</td>\n",
       "      <td>[False, False, False, True, True, True, True, ...</td>\n",
       "      <td>[O, O, O, O, O, O, O, O, O, O, O, O, O, O, O, ...</td>\n",
       "    </tr>\n",
       "    <tr>\n",
       "      <th>103</th>\n",
       "      <td>3202</td>\n",
       "      <td>Final Assignment\\n\\nUniversity of Virginia's D...</td>\n",
       "      <td>[Final, Assignment, \\n\\n, University, of, Virg...</td>\n",
       "      <td>[True, False, False, True, True, False, True, ...</td>\n",
       "      <td>[O, O, O, O, O, O, O, O, O, O, O, O, O, O, O, ...</td>\n",
       "    </tr>\n",
       "  </tbody>\n",
       "</table>\n",
       "</div>"
      ],
      "text/plain": [
       "      document                                          full_text  \\\n",
       "6077     21131  Reflection – Learning Launch\\n\\nChallenge and ...   \n",
       "674       8979  Reflection: Learning Launch – Onboarding guide...   \n",
       "1024      9691  Mind Mapping\\n\\nChallenge & Selection    Mind ...   \n",
       "1045      9739  Challenge:\\n\\nTo design and develop an idea fo...   \n",
       "103       3202  Final Assignment\\n\\nUniversity of Virginia's D...   \n",
       "\n",
       "                                                 tokens  \\\n",
       "6077  [Reflection, –, Learning, Launch, \\n\\n, Challe...   \n",
       "674   [Reflection, :, Learning, Launch, –, Onboardin...   \n",
       "1024  [Mind, Mapping, \\n\\n, Challenge, &, Selection,...   \n",
       "1045  [Challenge, :, \\n\\n, To, design, and, develop,...   \n",
       "103   [Final, Assignment, \\n\\n, University, of, Virg...   \n",
       "\n",
       "                                    trailing_whitespace  \\\n",
       "6077  [True, True, True, False, False, True, True, F...   \n",
       "674   [False, True, True, True, True, True, False, F...   \n",
       "1024  [True, False, False, True, True, True, False, ...   \n",
       "1045  [False, False, False, True, True, True, True, ...   \n",
       "103   [True, False, False, True, True, False, True, ...   \n",
       "\n",
       "                                                 labels  \n",
       "6077  [O, O, O, O, O, O, O, O, O, O, O, O, O, O, O, ...  \n",
       "674   [O, O, O, O, O, O, O, O, O, O, O, O, O, O, O, ...  \n",
       "1024  [O, O, O, O, O, O, O, O, O, O, O, O, O, O, O, ...  \n",
       "1045  [O, O, O, O, O, O, O, O, O, O, O, O, O, O, O, ...  \n",
       "103   [O, O, O, O, O, O, O, O, O, O, O, O, O, O, O, ...  "
      ]
     },
     "execution_count": 40,
     "metadata": {},
     "output_type": "execute_result"
    }
   ],
   "source": [
    "mini_dataset4.tail()"
   ]
  },
  {
   "cell_type": "code",
   "execution_count": 41,
   "id": "a9d2a1e6",
   "metadata": {
    "execution": {
     "iopub.execute_input": "2024-02-26T17:18:47.359582Z",
     "iopub.status.busy": "2024-02-26T17:18:47.358961Z",
     "iopub.status.idle": "2024-02-26T17:18:47.372017Z",
     "shell.execute_reply": "2024-02-26T17:18:47.370968Z"
    },
    "papermill": {
     "duration": 0.038489,
     "end_time": "2024-02-26T17:18:47.374245",
     "exception": false,
     "start_time": "2024-02-26T17:18:47.335756",
     "status": "completed"
    },
    "tags": []
   },
   "outputs": [
    {
     "name": "stdout",
     "output_type": "stream",
     "text": [
      "<class 'pandas.core.frame.DataFrame'>\n",
      "Index: 2724 entries, 2589 to 103\n",
      "Data columns (total 5 columns):\n",
      " #   Column               Non-Null Count  Dtype \n",
      "---  ------               --------------  ----- \n",
      " 0   document             2724 non-null   int64 \n",
      " 1   full_text            2724 non-null   object\n",
      " 2   tokens               2724 non-null   object\n",
      " 3   trailing_whitespace  2724 non-null   object\n",
      " 4   labels               2724 non-null   object\n",
      "dtypes: int64(1), object(4)\n",
      "memory usage: 192.2+ KB\n"
     ]
    }
   ],
   "source": [
    "mini_dataset4.info()"
   ]
  },
  {
   "cell_type": "code",
   "execution_count": 42,
   "id": "297bef9d",
   "metadata": {
    "execution": {
     "iopub.execute_input": "2024-02-26T17:18:47.419862Z",
     "iopub.status.busy": "2024-02-26T17:18:47.419516Z",
     "iopub.status.idle": "2024-02-26T17:18:47.646723Z",
     "shell.execute_reply": "2024-02-26T17:18:47.645364Z"
    },
    "papermill": {
     "duration": 0.252855,
     "end_time": "2024-02-26T17:18:47.649006",
     "exception": false,
     "start_time": "2024-02-26T17:18:47.396151",
     "status": "completed"
    },
    "tags": []
   },
   "outputs": [
    {
     "name": "stdout",
     "output_type": "stream",
     "text": [
      "Number of Each Label:\n",
      "labels\n",
      "O                   2805137\n",
      "B-NAME_STUDENT          793\n",
      "I-NAME_STUDENT          638\n",
      "B-URL_PERSONAL           75\n",
      "B-ID_NUM                 26\n",
      "B-EMAIL                  20\n",
      "I-STREET_ADDRESS         10\n",
      "I-PHONE_NUM               3\n",
      "B-USERNAME                3\n",
      "B-PHONE_NUM               1\n",
      "B-STREET_ADDRESS          1\n",
      "I-ID_NUM                  1\n",
      "I-URL_PERSONAL            1\n",
      "Name: count, dtype: int64\n"
     ]
    }
   ],
   "source": [
    "etiket_sayilari = mini_dataset4['labels'].explode().value_counts()\n",
    "\n",
    "# Sonuçları yazdırın\n",
    "print(\"Number of Each Label:\")\n",
    "print(etiket_sayilari)\n"
   ]
  },
  {
   "cell_type": "code",
   "execution_count": 43,
   "id": "ebb0bf3d",
   "metadata": {
    "execution": {
     "iopub.execute_input": "2024-02-26T17:18:47.695928Z",
     "iopub.status.busy": "2024-02-26T17:18:47.695565Z",
     "iopub.status.idle": "2024-02-26T17:18:48.337243Z",
     "shell.execute_reply": "2024-02-26T17:18:48.336112Z"
    },
    "papermill": {
     "duration": 0.668343,
     "end_time": "2024-02-26T17:18:48.339534",
     "exception": false,
     "start_time": "2024-02-26T17:18:47.671191",
     "status": "completed"
    },
    "tags": []
   },
   "outputs": [
    {
     "name": "stdout",
     "output_type": "stream",
     "text": [
      "O: 2724 satır\n",
      "B-NAME_STUDENT: 476 satır\n",
      "I-NAME_STUDENT: 446 satır\n",
      "B-URL_PERSONAL: 46 satır\n",
      "B-ID_NUM: 8 satır\n",
      "B-EMAIL: 13 satır\n",
      "I-STREET_ADDRESS: 1 satır\n",
      "I-PHONE_NUM: 1 satır\n",
      "B-USERNAME: 2 satır\n",
      "B-PHONE_NUM: 1 satır\n",
      "B-STREET_ADDRESS: 1 satır\n",
      "I-ID_NUM: 1 satır\n",
      "I-URL_PERSONAL: 1 satır\n"
     ]
    }
   ],
   "source": [
    "# Mini veri setinde her bir etiketin bulunduğu belge sayısını hesaplayın\n",
    "mini_etiket_belge_sayisi = mini_dataset4['labels'].explode().value_counts()\n",
    "\n",
    "# Her bir etiket için en az bir tane bulunan satır sayısını hesaplayın\n",
    "for etiket in mini_etiket_belge_sayisi.index:\n",
    "    satir_sayisi = mini_dataset4['labels'].apply(lambda x: etiket in x).sum()\n",
    "    print(f\"{etiket}: {satir_sayisi} satır\")\n"
   ]
  },
  {
   "cell_type": "code",
   "execution_count": 44,
   "id": "7cf16e6f",
   "metadata": {
    "execution": {
     "iopub.execute_input": "2024-02-26T17:18:48.386505Z",
     "iopub.status.busy": "2024-02-26T17:18:48.385873Z",
     "iopub.status.idle": "2024-02-26T17:18:51.776394Z",
     "shell.execute_reply": "2024-02-26T17:18:51.775248Z"
    },
    "papermill": {
     "duration": 3.417122,
     "end_time": "2024-02-26T17:18:51.779205",
     "exception": false,
     "start_time": "2024-02-26T17:18:48.362083",
     "status": "completed"
    },
    "tags": []
   },
   "outputs": [
    {
     "name": "stderr",
     "output_type": "stream",
     "text": [
      "/tmp/ipykernel_18/3212693344.py:27: FutureWarning: Series.__getitem__ treating keys as positions is deprecated. In a future version, integer keys will always be treated as labels (consistent with DataFrame behavior). To access a value by position, use `ser.iloc[pos]`\n",
      "  plt.text(i, org_label_distribution[i] + 0.5, f\"{org_label_distribution[i]:.2f}%\", ha='center', va='bottom')\n",
      "/tmp/ipykernel_18/3212693344.py:37: FutureWarning: Series.__getitem__ treating keys as positions is deprecated. In a future version, integer keys will always be treated as labels (consistent with DataFrame behavior). To access a value by position, use `ser.iloc[pos]`\n",
      "  plt.text(i, mini_label_distribution[i] + 0.5, f\"{mini_label_distribution[i]:.2f}%\", ha='center', va='bottom')\n"
     ]
    },
    {
     "data": {
      "image/png": "[encoded data removed]",
      "text/plain": [
       "<Figure size 1500x600 with 2 Axes>"
      ]
     },
     "metadata": {},
     "output_type": "display_data"
    }
   ],
   "source": [
    "import pandas as pd\n",
    "import matplotlib.pyplot as plt\n",
    "\n",
    "# org_train veri setini yükleyin (dosya yolu doğru belirtilmelidir)\n",
    "org_train = json.load(open('/kaggle/input/pii-detection-removal-from-educational-data/train.json'))\n",
    "\n",
    "# org_train veri setini DataFrame'e dönüştürün\n",
    "org_train_df = pd.DataFrame(org_train)\n",
    "\n",
    "# Mini dataset için O etiketi hariç diğer etiketlerin dağılımını hesaplayın\n",
    "mini_labels = mini_dataset4['labels'].explode()\n",
    "mini_labels = mini_labels[mini_labels != 'O']\n",
    "mini_label_distribution = mini_labels.value_counts(normalize=True) * 100\n",
    "\n",
    "# org_train veri seti için O etiketi hariç diğer etiketlerin dağılımını hesaplayın\n",
    "org_labels = org_train_df['labels'].explode()\n",
    "org_labels = org_labels[org_labels != 'O']\n",
    "org_label_distribution = org_labels.value_counts(normalize=True) * 100\n",
    "\n",
    "# Grafikleri oluşturun\n",
    "plt.figure(figsize=(15, 6))\n",
    "\n",
    "# Sütun grafik oluşturun\n",
    "plt.subplot(1, 2, 1)\n",
    "org_label_distribution.plot(kind='bar', color='blue', alpha=0.5, label='Org Train Dataset')\n",
    "for i in range(len(org_label_distribution)):\n",
    "    plt.text(i, org_label_distribution[i] + 0.5, f\"{org_label_distribution[i]:.2f}%\", ha='center', va='bottom')\n",
    "plt.title('Org Train Dataset Tag Distribution')\n",
    "plt.xlabel('Labels')\n",
    "plt.ylabel('Percentage')\n",
    "plt.legend()\n",
    "\n",
    "# Sütun grafik oluşturun\n",
    "plt.subplot(1, 2, 2)\n",
    "mini_label_distribution.plot(kind='bar', color='pink', alpha=0.5, label='Mini Dataset4')\n",
    "for i in range(len(mini_label_distribution)):\n",
    "    plt.text(i, mini_label_distribution[i] + 0.5, f\"{mini_label_distribution[i]:.2f}%\", ha='center', va='bottom')\n",
    "plt.title('Mini Dataset4 Label Distribution')\n",
    "plt.xlabel('Labels')\n",
    "plt.ylabel('Percentage')\n",
    "plt.legend()\n",
    "\n",
    "# Grafikleri gösterin\n",
    "plt.tight_layout()\n",
    "plt.show()\n"
   ]
  },
  {
   "cell_type": "markdown",
   "id": "e6b15f6b",
   "metadata": {
    "papermill": {
     "duration": 0.023535,
     "end_time": "2024-02-26T17:18:51.826535",
     "exception": false,
     "start_time": "2024-02-26T17:18:51.803000",
     "status": "completed"
    },
    "tags": []
   },
   "source": [
    "**Thank you!**"
   ]
  }
 ],
 "metadata": {
  "kaggle": {
   "accelerator": "none",
   "dataSources": [
    {
     "databundleVersionId": 7500999,
     "sourceId": 66653,
     "sourceType": "competition"
    }
   ],
   "dockerImageVersionId": 30646,
   "isGpuEnabled": false,
   "isInternetEnabled": true,
   "language": "python",
   "sourceType": "notebook"
  },
  "kernelspec": {
   "display_name": "Python 3",
   "language": "python",
   "name": "python3"
  },
  "language_info": {
   "codemirror_mode": {
    "name": "ipython",
    "version": 3
   },
   "file_extension": ".py",
   "mimetype": "text/x-python",
   "name": "python",
   "nbconvert_exporter": "python",
   "pygments_lexer": "ipython3",
   "version": "3.10.13"
  },
  "papermill": {
   "default_parameters": {},
   "duration": 49.486559,
   "end_time": "2024-02-26T17:18:53.576785",
   "environment_variables": {},
   "exception": null,
   "input_path": "__notebook__.ipynb",
   "output_path": "__notebook__.ipynb",
   "parameters": {},
   "start_time": "2024-02-26T17:18:04.090226",
   "version": "2.5.0"
  }
 },
 "nbformat": 4,
 "nbformat_minor": 5
}
